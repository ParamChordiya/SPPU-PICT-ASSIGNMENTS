{
 "cells": [
  {
   "cell_type": "markdown",
   "metadata": {
    "id": "1b2edb5d"
   },
   "source": [
    " # ***32119- Param Chordiya***\n",
    "# ***Assignment 3***"
   ]
  },
  {
   "cell_type": "markdown",
   "metadata": {
    "id": "5ba05b3b"
   },
   "source": [
    "\n",
    "# Computational Stats\n",
    "TE Sem I Honors in AI/ML\n",
    "Academic Year: 2021-22\n",
    "Lab Assignment No. 3\n",
    "\n",
    "\n",
    "### Problem Statement:\n",
    "•\tLoad the dataset: birthwt Risk Factors Associated with Low Infant Birth Weight\n",
    "1.\tTest the association of mother’s (age) age and baby’s birth weight (bwt) using the correlation test and linear regression. \n",
    "2.\tTest the association of mother’s weight (weight) and birth weight (bwt) using the correlation test and linear regression. \n",
    "3.\tProduce two scatter plots of: \n",
    "(i)\tmother’s age by baby’s birth weight; \n",
    "(ii)\tmother’s weight by baby’s birth weight.\n",
    "Objective\n",
    "Elaborate the Conclusion based on the performed analysis.\n",
    "\n",
    "### Dataset Description:\n",
    "Taken from Stat Labs by Nolan and Speed, originally from the Child Health and Development Studies conducted at the Oakland, CA, Kaiser Foundation Hospital. The variables are\n",
    "1.\tbwt: baby's weight in ounces at birth\n",
    "2.\tgestation: duration of pregnancy in days\n",
    "3.\tparity: parity indicator (first born = 1, later birth = 0)\n",
    "4.\tage: mother's age in years\n",
    "5.\theight: mother's height in inches\n",
    "6.\tweight: mother's weight in pounds (during pregnancy)\n",
    "7.\tsmoke: indicator for whether mother smokes (1=yes, 0=no)\n",
    "\n",
    "\n"
   ]
  },
  {
   "cell_type": "markdown",
   "metadata": {
    "id": "uCkvCaWSt5Ij"
   },
   "source": [
    "# Importing the needed libraries"
   ]
  },
  {
   "cell_type": "code",
   "execution_count": 1,
   "metadata": {
    "id": "14f0a429"
   },
   "outputs": [],
   "source": [
    "import numpy as np\n",
    "from sklearn.linear_model import LinearRegression\n",
    "import matplotlib.pyplot as plt\n",
    "import seaborn as sns\n",
    "import pandas as pd"
   ]
  },
  {
   "cell_type": "code",
   "execution_count": null,
   "metadata": {
    "colab": {
     "base_uri": "https://localhost:8080/"
    },
    "id": "leqFcXOEtoEb",
    "outputId": "6ee24429-4210-43fd-8f76-6d4e4a1ac2af"
   },
   "outputs": [],
   "source": []
  },
  {
   "cell_type": "markdown",
   "metadata": {
    "id": "BW5gYbI6uNED"
   },
   "source": [
    "# Reading the dataset"
   ]
  },
  {
   "cell_type": "code",
   "execution_count": 2,
   "metadata": {
    "colab": {
     "base_uri": "https://localhost:8080/"
    },
    "id": "9955a005",
    "outputId": "8d0564f4-a308-43fd-f07e-e1f181e1abe2"
   },
   "outputs": [
    {
     "name": "stdout",
     "output_type": "stream",
     "text": [
      "      Unnamed: 0  bwt  gestation  parity  age  height  weight  smoke\n",
      "0              1  120        284       0   27      62     100      0\n",
      "1              2  113        282       0   33      64     135      0\n",
      "2              3  128        279       0   28      64     115      1\n",
      "3              4  108        282       0   23      67     125      1\n",
      "4              5  136        286       0   25      62      93      0\n",
      "...          ...  ...        ...     ...  ...     ...     ...    ...\n",
      "1169        1170  113        275       1   27      60     100      0\n",
      "1170        1171  128        265       0   24      67     120      0\n",
      "1171        1172  130        291       0   30      65     150      1\n",
      "1172        1173  125        281       1   21      65     110      0\n",
      "1173        1174  117        297       0   38      65     129      0\n",
      "\n",
      "[1174 rows x 8 columns]\n"
     ]
    }
   ],
   "source": [
    "df = pd.read_csv(\"Bwt.csv\")\n",
    "print(df)"
   ]
  },
  {
   "cell_type": "markdown",
   "metadata": {
    "id": "sdvojLsKuSXy"
   },
   "source": [
    "# Drop the \"Unnamed\" column"
   ]
  },
  {
   "cell_type": "code",
   "execution_count": 3,
   "metadata": {
    "colab": {
     "base_uri": "https://localhost:8080/"
    },
    "id": "89a1a41d",
    "outputId": "4cf59cdb-2d3d-4ab0-ad05-ca9a8565234a"
   },
   "outputs": [
    {
     "name": "stdout",
     "output_type": "stream",
     "text": [
      "      bwt  gestation  parity  age  height  weight  smoke\n",
      "0     120        284       0   27      62     100      0\n",
      "1     113        282       0   33      64     135      0\n",
      "2     128        279       0   28      64     115      1\n",
      "3     108        282       0   23      67     125      1\n",
      "4     136        286       0   25      62      93      0\n",
      "...   ...        ...     ...  ...     ...     ...    ...\n",
      "1169  113        275       1   27      60     100      0\n",
      "1170  128        265       0   24      67     120      0\n",
      "1171  130        291       0   30      65     150      1\n",
      "1172  125        281       1   21      65     110      0\n",
      "1173  117        297       0   38      65     129      0\n",
      "\n",
      "[1174 rows x 7 columns]\n"
     ]
    }
   ],
   "source": [
    "df.drop([\"Unnamed: 0\"], axis=1, inplace=True)\n",
    "print(df)"
   ]
  },
  {
   "cell_type": "markdown",
   "metadata": {
    "id": "-0H80quyuZCj"
   },
   "source": [
    "# Describing the dataset"
   ]
  },
  {
   "cell_type": "code",
   "execution_count": 4,
   "metadata": {
    "colab": {
     "base_uri": "https://localhost:8080/",
     "height": 295
    },
    "id": "a966a2b0",
    "outputId": "dc09f9ae-1c55-4356-ac18-a00270df5f61"
   },
   "outputs": [
    {
     "data": {
      "text/html": [
       "<div>\n",
       "<style scoped>\n",
       "    .dataframe tbody tr th:only-of-type {\n",
       "        vertical-align: middle;\n",
       "    }\n",
       "\n",
       "    .dataframe tbody tr th {\n",
       "        vertical-align: top;\n",
       "    }\n",
       "\n",
       "    .dataframe thead th {\n",
       "        text-align: right;\n",
       "    }\n",
       "</style>\n",
       "<table border=\"1\" class=\"dataframe\">\n",
       "  <thead>\n",
       "    <tr style=\"text-align: right;\">\n",
       "      <th></th>\n",
       "      <th>bwt</th>\n",
       "      <th>gestation</th>\n",
       "      <th>parity</th>\n",
       "      <th>age</th>\n",
       "      <th>height</th>\n",
       "      <th>weight</th>\n",
       "      <th>smoke</th>\n",
       "    </tr>\n",
       "  </thead>\n",
       "  <tbody>\n",
       "    <tr>\n",
       "      <td>count</td>\n",
       "      <td>1174.000000</td>\n",
       "      <td>1174.000000</td>\n",
       "      <td>1174.000000</td>\n",
       "      <td>1174.000000</td>\n",
       "      <td>1174.000000</td>\n",
       "      <td>1174.000000</td>\n",
       "      <td>1174.000000</td>\n",
       "    </tr>\n",
       "    <tr>\n",
       "      <td>mean</td>\n",
       "      <td>119.462521</td>\n",
       "      <td>279.101363</td>\n",
       "      <td>0.262351</td>\n",
       "      <td>27.228279</td>\n",
       "      <td>64.049404</td>\n",
       "      <td>128.478705</td>\n",
       "      <td>0.390971</td>\n",
       "    </tr>\n",
       "    <tr>\n",
       "      <td>std</td>\n",
       "      <td>18.328671</td>\n",
       "      <td>16.010305</td>\n",
       "      <td>0.440100</td>\n",
       "      <td>5.817839</td>\n",
       "      <td>2.526102</td>\n",
       "      <td>20.734282</td>\n",
       "      <td>0.488176</td>\n",
       "    </tr>\n",
       "    <tr>\n",
       "      <td>min</td>\n",
       "      <td>55.000000</td>\n",
       "      <td>148.000000</td>\n",
       "      <td>0.000000</td>\n",
       "      <td>15.000000</td>\n",
       "      <td>53.000000</td>\n",
       "      <td>87.000000</td>\n",
       "      <td>0.000000</td>\n",
       "    </tr>\n",
       "    <tr>\n",
       "      <td>25%</td>\n",
       "      <td>108.000000</td>\n",
       "      <td>272.000000</td>\n",
       "      <td>0.000000</td>\n",
       "      <td>23.000000</td>\n",
       "      <td>62.000000</td>\n",
       "      <td>114.250000</td>\n",
       "      <td>0.000000</td>\n",
       "    </tr>\n",
       "    <tr>\n",
       "      <td>50%</td>\n",
       "      <td>120.000000</td>\n",
       "      <td>280.000000</td>\n",
       "      <td>0.000000</td>\n",
       "      <td>26.000000</td>\n",
       "      <td>64.000000</td>\n",
       "      <td>125.000000</td>\n",
       "      <td>0.000000</td>\n",
       "    </tr>\n",
       "    <tr>\n",
       "      <td>75%</td>\n",
       "      <td>131.000000</td>\n",
       "      <td>288.000000</td>\n",
       "      <td>1.000000</td>\n",
       "      <td>31.000000</td>\n",
       "      <td>66.000000</td>\n",
       "      <td>139.000000</td>\n",
       "      <td>1.000000</td>\n",
       "    </tr>\n",
       "    <tr>\n",
       "      <td>max</td>\n",
       "      <td>176.000000</td>\n",
       "      <td>353.000000</td>\n",
       "      <td>1.000000</td>\n",
       "      <td>45.000000</td>\n",
       "      <td>72.000000</td>\n",
       "      <td>250.000000</td>\n",
       "      <td>1.000000</td>\n",
       "    </tr>\n",
       "  </tbody>\n",
       "</table>\n",
       "</div>"
      ],
      "text/plain": [
       "               bwt    gestation       parity          age       height  \\\n",
       "count  1174.000000  1174.000000  1174.000000  1174.000000  1174.000000   \n",
       "mean    119.462521   279.101363     0.262351    27.228279    64.049404   \n",
       "std      18.328671    16.010305     0.440100     5.817839     2.526102   \n",
       "min      55.000000   148.000000     0.000000    15.000000    53.000000   \n",
       "25%     108.000000   272.000000     0.000000    23.000000    62.000000   \n",
       "50%     120.000000   280.000000     0.000000    26.000000    64.000000   \n",
       "75%     131.000000   288.000000     1.000000    31.000000    66.000000   \n",
       "max     176.000000   353.000000     1.000000    45.000000    72.000000   \n",
       "\n",
       "            weight        smoke  \n",
       "count  1174.000000  1174.000000  \n",
       "mean    128.478705     0.390971  \n",
       "std      20.734282     0.488176  \n",
       "min      87.000000     0.000000  \n",
       "25%     114.250000     0.000000  \n",
       "50%     125.000000     0.000000  \n",
       "75%     139.000000     1.000000  \n",
       "max     250.000000     1.000000  "
      ]
     },
     "execution_count": 4,
     "metadata": {},
     "output_type": "execute_result"
    }
   ],
   "source": [
    "df.describe(include=\"all\")"
   ]
  },
  {
   "cell_type": "markdown",
   "metadata": {
    "id": "kL0_6cgqunxG"
   },
   "source": [
    "# Printing the first 5 values of the dataset"
   ]
  },
  {
   "cell_type": "code",
   "execution_count": 5,
   "metadata": {
    "colab": {
     "base_uri": "https://localhost:8080/",
     "height": 203
    },
    "id": "744d6be5",
    "outputId": "c0a8a4ed-d37b-4dd2-ef4d-ea2e0eaaffbd"
   },
   "outputs": [
    {
     "data": {
      "text/html": [
       "<div>\n",
       "<style scoped>\n",
       "    .dataframe tbody tr th:only-of-type {\n",
       "        vertical-align: middle;\n",
       "    }\n",
       "\n",
       "    .dataframe tbody tr th {\n",
       "        vertical-align: top;\n",
       "    }\n",
       "\n",
       "    .dataframe thead th {\n",
       "        text-align: right;\n",
       "    }\n",
       "</style>\n",
       "<table border=\"1\" class=\"dataframe\">\n",
       "  <thead>\n",
       "    <tr style=\"text-align: right;\">\n",
       "      <th></th>\n",
       "      <th>bwt</th>\n",
       "      <th>gestation</th>\n",
       "      <th>parity</th>\n",
       "      <th>age</th>\n",
       "      <th>height</th>\n",
       "      <th>weight</th>\n",
       "      <th>smoke</th>\n",
       "    </tr>\n",
       "  </thead>\n",
       "  <tbody>\n",
       "    <tr>\n",
       "      <td>0</td>\n",
       "      <td>120</td>\n",
       "      <td>284</td>\n",
       "      <td>0</td>\n",
       "      <td>27</td>\n",
       "      <td>62</td>\n",
       "      <td>100</td>\n",
       "      <td>0</td>\n",
       "    </tr>\n",
       "    <tr>\n",
       "      <td>1</td>\n",
       "      <td>113</td>\n",
       "      <td>282</td>\n",
       "      <td>0</td>\n",
       "      <td>33</td>\n",
       "      <td>64</td>\n",
       "      <td>135</td>\n",
       "      <td>0</td>\n",
       "    </tr>\n",
       "    <tr>\n",
       "      <td>2</td>\n",
       "      <td>128</td>\n",
       "      <td>279</td>\n",
       "      <td>0</td>\n",
       "      <td>28</td>\n",
       "      <td>64</td>\n",
       "      <td>115</td>\n",
       "      <td>1</td>\n",
       "    </tr>\n",
       "    <tr>\n",
       "      <td>3</td>\n",
       "      <td>108</td>\n",
       "      <td>282</td>\n",
       "      <td>0</td>\n",
       "      <td>23</td>\n",
       "      <td>67</td>\n",
       "      <td>125</td>\n",
       "      <td>1</td>\n",
       "    </tr>\n",
       "    <tr>\n",
       "      <td>4</td>\n",
       "      <td>136</td>\n",
       "      <td>286</td>\n",
       "      <td>0</td>\n",
       "      <td>25</td>\n",
       "      <td>62</td>\n",
       "      <td>93</td>\n",
       "      <td>0</td>\n",
       "    </tr>\n",
       "  </tbody>\n",
       "</table>\n",
       "</div>"
      ],
      "text/plain": [
       "   bwt  gestation  parity  age  height  weight  smoke\n",
       "0  120        284       0   27      62     100      0\n",
       "1  113        282       0   33      64     135      0\n",
       "2  128        279       0   28      64     115      1\n",
       "3  108        282       0   23      67     125      1\n",
       "4  136        286       0   25      62      93      0"
      ]
     },
     "execution_count": 5,
     "metadata": {},
     "output_type": "execute_result"
    }
   ],
   "source": [
    "df.head()"
   ]
  },
  {
   "cell_type": "markdown",
   "metadata": {
    "id": "S4aGmty1NgmF"
   },
   "source": [
    "# Printing the last 5 values of the dataset"
   ]
  },
  {
   "cell_type": "code",
   "execution_count": 6,
   "metadata": {
    "colab": {
     "base_uri": "https://localhost:8080/",
     "height": 203
    },
    "id": "01d035db",
    "outputId": "8afbed6e-8f61-4d71-b6d2-8d89c1ed2a4d"
   },
   "outputs": [
    {
     "data": {
      "text/html": [
       "<div>\n",
       "<style scoped>\n",
       "    .dataframe tbody tr th:only-of-type {\n",
       "        vertical-align: middle;\n",
       "    }\n",
       "\n",
       "    .dataframe tbody tr th {\n",
       "        vertical-align: top;\n",
       "    }\n",
       "\n",
       "    .dataframe thead th {\n",
       "        text-align: right;\n",
       "    }\n",
       "</style>\n",
       "<table border=\"1\" class=\"dataframe\">\n",
       "  <thead>\n",
       "    <tr style=\"text-align: right;\">\n",
       "      <th></th>\n",
       "      <th>bwt</th>\n",
       "      <th>gestation</th>\n",
       "      <th>parity</th>\n",
       "      <th>age</th>\n",
       "      <th>height</th>\n",
       "      <th>weight</th>\n",
       "      <th>smoke</th>\n",
       "    </tr>\n",
       "  </thead>\n",
       "  <tbody>\n",
       "    <tr>\n",
       "      <td>1169</td>\n",
       "      <td>113</td>\n",
       "      <td>275</td>\n",
       "      <td>1</td>\n",
       "      <td>27</td>\n",
       "      <td>60</td>\n",
       "      <td>100</td>\n",
       "      <td>0</td>\n",
       "    </tr>\n",
       "    <tr>\n",
       "      <td>1170</td>\n",
       "      <td>128</td>\n",
       "      <td>265</td>\n",
       "      <td>0</td>\n",
       "      <td>24</td>\n",
       "      <td>67</td>\n",
       "      <td>120</td>\n",
       "      <td>0</td>\n",
       "    </tr>\n",
       "    <tr>\n",
       "      <td>1171</td>\n",
       "      <td>130</td>\n",
       "      <td>291</td>\n",
       "      <td>0</td>\n",
       "      <td>30</td>\n",
       "      <td>65</td>\n",
       "      <td>150</td>\n",
       "      <td>1</td>\n",
       "    </tr>\n",
       "    <tr>\n",
       "      <td>1172</td>\n",
       "      <td>125</td>\n",
       "      <td>281</td>\n",
       "      <td>1</td>\n",
       "      <td>21</td>\n",
       "      <td>65</td>\n",
       "      <td>110</td>\n",
       "      <td>0</td>\n",
       "    </tr>\n",
       "    <tr>\n",
       "      <td>1173</td>\n",
       "      <td>117</td>\n",
       "      <td>297</td>\n",
       "      <td>0</td>\n",
       "      <td>38</td>\n",
       "      <td>65</td>\n",
       "      <td>129</td>\n",
       "      <td>0</td>\n",
       "    </tr>\n",
       "  </tbody>\n",
       "</table>\n",
       "</div>"
      ],
      "text/plain": [
       "      bwt  gestation  parity  age  height  weight  smoke\n",
       "1169  113        275       1   27      60     100      0\n",
       "1170  128        265       0   24      67     120      0\n",
       "1171  130        291       0   30      65     150      1\n",
       "1172  125        281       1   21      65     110      0\n",
       "1173  117        297       0   38      65     129      0"
      ]
     },
     "execution_count": 6,
     "metadata": {},
     "output_type": "execute_result"
    }
   ],
   "source": [
    "df.tail()"
   ]
  },
  {
   "cell_type": "markdown",
   "metadata": {
    "id": "6ulZicl4NxgL"
   },
   "source": [
    "# Visualizing Correlation"
   ]
  },
  {
   "cell_type": "code",
   "execution_count": 7,
   "metadata": {
    "colab": {
     "base_uri": "https://localhost:8080/",
     "height": 265
    },
    "id": "aH5_jL7pOdJc",
    "outputId": "52668987-e165-48d1-91dd-678f557c3968"
   },
   "outputs": [
    {
     "data": {
      "text/html": [
       "<div>\n",
       "<style scoped>\n",
       "    .dataframe tbody tr th:only-of-type {\n",
       "        vertical-align: middle;\n",
       "    }\n",
       "\n",
       "    .dataframe tbody tr th {\n",
       "        vertical-align: top;\n",
       "    }\n",
       "\n",
       "    .dataframe thead th {\n",
       "        text-align: right;\n",
       "    }\n",
       "</style>\n",
       "<table border=\"1\" class=\"dataframe\">\n",
       "  <thead>\n",
       "    <tr style=\"text-align: right;\">\n",
       "      <th></th>\n",
       "      <th>bwt</th>\n",
       "      <th>gestation</th>\n",
       "      <th>parity</th>\n",
       "      <th>age</th>\n",
       "      <th>height</th>\n",
       "      <th>weight</th>\n",
       "      <th>smoke</th>\n",
       "    </tr>\n",
       "  </thead>\n",
       "  <tbody>\n",
       "    <tr>\n",
       "      <td>bwt</td>\n",
       "      <td>1.000000</td>\n",
       "      <td>0.407543</td>\n",
       "      <td>-0.043908</td>\n",
       "      <td>0.026983</td>\n",
       "      <td>0.203704</td>\n",
       "      <td>0.155923</td>\n",
       "      <td>-0.246800</td>\n",
       "    </tr>\n",
       "    <tr>\n",
       "      <td>gestation</td>\n",
       "      <td>0.407543</td>\n",
       "      <td>1.000000</td>\n",
       "      <td>0.080916</td>\n",
       "      <td>-0.053425</td>\n",
       "      <td>0.070470</td>\n",
       "      <td>0.023655</td>\n",
       "      <td>-0.060267</td>\n",
       "    </tr>\n",
       "    <tr>\n",
       "      <td>parity</td>\n",
       "      <td>-0.043908</td>\n",
       "      <td>0.080916</td>\n",
       "      <td>1.000000</td>\n",
       "      <td>-0.351041</td>\n",
       "      <td>0.043543</td>\n",
       "      <td>-0.096362</td>\n",
       "      <td>-0.009599</td>\n",
       "    </tr>\n",
       "    <tr>\n",
       "      <td>age</td>\n",
       "      <td>0.026983</td>\n",
       "      <td>-0.053425</td>\n",
       "      <td>-0.351041</td>\n",
       "      <td>1.000000</td>\n",
       "      <td>-0.006453</td>\n",
       "      <td>0.147322</td>\n",
       "      <td>-0.067772</td>\n",
       "    </tr>\n",
       "    <tr>\n",
       "      <td>height</td>\n",
       "      <td>0.203704</td>\n",
       "      <td>0.070470</td>\n",
       "      <td>0.043543</td>\n",
       "      <td>-0.006453</td>\n",
       "      <td>1.000000</td>\n",
       "      <td>0.435287</td>\n",
       "      <td>0.017507</td>\n",
       "    </tr>\n",
       "    <tr>\n",
       "      <td>weight</td>\n",
       "      <td>0.155923</td>\n",
       "      <td>0.023655</td>\n",
       "      <td>-0.096362</td>\n",
       "      <td>0.147322</td>\n",
       "      <td>0.435287</td>\n",
       "      <td>1.000000</td>\n",
       "      <td>-0.060281</td>\n",
       "    </tr>\n",
       "    <tr>\n",
       "      <td>smoke</td>\n",
       "      <td>-0.246800</td>\n",
       "      <td>-0.060267</td>\n",
       "      <td>-0.009599</td>\n",
       "      <td>-0.067772</td>\n",
       "      <td>0.017507</td>\n",
       "      <td>-0.060281</td>\n",
       "      <td>1.000000</td>\n",
       "    </tr>\n",
       "  </tbody>\n",
       "</table>\n",
       "</div>"
      ],
      "text/plain": [
       "                bwt  gestation    parity       age    height    weight  \\\n",
       "bwt        1.000000   0.407543 -0.043908  0.026983  0.203704  0.155923   \n",
       "gestation  0.407543   1.000000  0.080916 -0.053425  0.070470  0.023655   \n",
       "parity    -0.043908   0.080916  1.000000 -0.351041  0.043543 -0.096362   \n",
       "age        0.026983  -0.053425 -0.351041  1.000000 -0.006453  0.147322   \n",
       "height     0.203704   0.070470  0.043543 -0.006453  1.000000  0.435287   \n",
       "weight     0.155923   0.023655 -0.096362  0.147322  0.435287  1.000000   \n",
       "smoke     -0.246800  -0.060267 -0.009599 -0.067772  0.017507 -0.060281   \n",
       "\n",
       "              smoke  \n",
       "bwt       -0.246800  \n",
       "gestation -0.060267  \n",
       "parity    -0.009599  \n",
       "age       -0.067772  \n",
       "height     0.017507  \n",
       "weight    -0.060281  \n",
       "smoke      1.000000  "
      ]
     },
     "execution_count": 7,
     "metadata": {},
     "output_type": "execute_result"
    }
   ],
   "source": [
    "df.corr()"
   ]
  },
  {
   "cell_type": "code",
   "execution_count": 8,
   "metadata": {
    "colab": {
     "base_uri": "https://localhost:8080/",
     "height": 275
    },
    "id": "ZZwMNEcSN1dm",
    "outputId": "4cd32863-543f-4f4e-ba81-793c00c85050"
   },
   "outputs": [
    {
     "data": {
      "image/png": "[encoded data removed]",
      "text/plain": [
       "<Figure size 288x288 with 1 Axes>"
      ]
     },
     "metadata": {
      "needs_background": "light"
     },
     "output_type": "display_data"
    }
   ],
   "source": [
    "plt.matshow(df.corr())\n",
    "plt.show()"
   ]
  },
  {
   "cell_type": "code",
   "execution_count": 9,
   "metadata": {
    "colab": {
     "base_uri": "https://localhost:8080/",
     "height": 182
    },
    "id": "A9JkAa14OEMT",
    "outputId": "52fb77f0-058d-494f-f50e-0673b3ada679"
   },
   "outputs": [
    {
     "data": {
      "text/html": [
       "<style  type=\"text/css\" >\n",
       "    #T_eed63494_32f2_11ec_b99a_040e3cacb8f1row0_col0 {\n",
       "            background-color:  #b40426;\n",
       "            color:  #f1f1f1;\n",
       "        }    #T_eed63494_32f2_11ec_b99a_040e3cacb8f1row0_col1 {\n",
       "            background-color:  #ccd9ed;\n",
       "            color:  #000000;\n",
       "        }    #T_eed63494_32f2_11ec_b99a_040e3cacb8f1row0_col2 {\n",
       "            background-color:  #85a8fc;\n",
       "            color:  #000000;\n",
       "        }    #T_eed63494_32f2_11ec_b99a_040e3cacb8f1row0_col3 {\n",
       "            background-color:  #97b8ff;\n",
       "            color:  #000000;\n",
       "        }    #T_eed63494_32f2_11ec_b99a_040e3cacb8f1row0_col4 {\n",
       "            background-color:  #7ea1fa;\n",
       "            color:  #000000;\n",
       "        }    #T_eed63494_32f2_11ec_b99a_040e3cacb8f1row0_col5 {\n",
       "            background-color:  #85a8fc;\n",
       "            color:  #000000;\n",
       "        }    #T_eed63494_32f2_11ec_b99a_040e3cacb8f1row0_col6 {\n",
       "            background-color:  #3b4cc0;\n",
       "            color:  #f1f1f1;\n",
       "        }    #T_eed63494_32f2_11ec_b99a_040e3cacb8f1row1_col0 {\n",
       "            background-color:  #e3d9d3;\n",
       "            color:  #000000;\n",
       "        }    #T_eed63494_32f2_11ec_b99a_040e3cacb8f1row1_col1 {\n",
       "            background-color:  #b40426;\n",
       "            color:  #f1f1f1;\n",
       "        }    #T_eed63494_32f2_11ec_b99a_040e3cacb8f1row1_col2 {\n",
       "            background-color:  #a5c3fe;\n",
       "            color:  #000000;\n",
       "        }    #T_eed63494_32f2_11ec_b99a_040e3cacb8f1row1_col3 {\n",
       "            background-color:  #82a6fb;\n",
       "            color:  #000000;\n",
       "        }    #T_eed63494_32f2_11ec_b99a_040e3cacb8f1row1_col4 {\n",
       "            background-color:  #516ddb;\n",
       "            color:  #000000;\n",
       "        }    #T_eed63494_32f2_11ec_b99a_040e3cacb8f1row1_col5 {\n",
       "            background-color:  #5d7ce6;\n",
       "            color:  #000000;\n",
       "        }    #T_eed63494_32f2_11ec_b99a_040e3cacb8f1row1_col6 {\n",
       "            background-color:  #6a8bef;\n",
       "            color:  #000000;\n",
       "        }    #T_eed63494_32f2_11ec_b99a_040e3cacb8f1row2_col0 {\n",
       "            background-color:  #6e90f2;\n",
       "            color:  #000000;\n",
       "        }    #T_eed63494_32f2_11ec_b99a_040e3cacb8f1row2_col1 {\n",
       "            background-color:  #6485ec;\n",
       "            color:  #000000;\n",
       "        }    #T_eed63494_32f2_11ec_b99a_040e3cacb8f1row2_col2 {\n",
       "            background-color:  #b40426;\n",
       "            color:  #f1f1f1;\n",
       "        }    #T_eed63494_32f2_11ec_b99a_040e3cacb8f1row2_col3 {\n",
       "            background-color:  #3b4cc0;\n",
       "            color:  #f1f1f1;\n",
       "        }    #T_eed63494_32f2_11ec_b99a_040e3cacb8f1row2_col4 {\n",
       "            background-color:  #4961d2;\n",
       "            color:  #f1f1f1;\n",
       "        }    #T_eed63494_32f2_11ec_b99a_040e3cacb8f1row2_col5 {\n",
       "            background-color:  #3b4cc0;\n",
       "            color:  #f1f1f1;\n",
       "        }    #T_eed63494_32f2_11ec_b99a_040e3cacb8f1row2_col6 {\n",
       "            background-color:  #779af7;\n",
       "            color:  #000000;\n",
       "        }    #T_eed63494_32f2_11ec_b99a_040e3cacb8f1row3_col0 {\n",
       "            background-color:  #82a6fb;\n",
       "            color:  #000000;\n",
       "        }    #T_eed63494_32f2_11ec_b99a_040e3cacb8f1row3_col1 {\n",
       "            background-color:  #3c4ec2;\n",
       "            color:  #f1f1f1;\n",
       "        }    #T_eed63494_32f2_11ec_b99a_040e3cacb8f1row3_col2 {\n",
       "            background-color:  #3b4cc0;\n",
       "            color:  #f1f1f1;\n",
       "        }    #T_eed63494_32f2_11ec_b99a_040e3cacb8f1row3_col3 {\n",
       "            background-color:  #b40426;\n",
       "            color:  #f1f1f1;\n",
       "        }    #T_eed63494_32f2_11ec_b99a_040e3cacb8f1row3_col4 {\n",
       "            background-color:  #3b4cc0;\n",
       "            color:  #f1f1f1;\n",
       "        }    #T_eed63494_32f2_11ec_b99a_040e3cacb8f1row3_col5 {\n",
       "            background-color:  #82a6fb;\n",
       "            color:  #000000;\n",
       "        }    #T_eed63494_32f2_11ec_b99a_040e3cacb8f1row3_col6 {\n",
       "            background-color:  #6788ee;\n",
       "            color:  #000000;\n",
       "        }    #T_eed63494_32f2_11ec_b99a_040e3cacb8f1row4_col0 {\n",
       "            background-color:  #b3cdfb;\n",
       "            color:  #000000;\n",
       "        }    #T_eed63494_32f2_11ec_b99a_040e3cacb8f1row4_col1 {\n",
       "            background-color:  #6180e9;\n",
       "            color:  #000000;\n",
       "        }    #T_eed63494_32f2_11ec_b99a_040e3cacb8f1row4_col2 {\n",
       "            background-color:  #9bbcff;\n",
       "            color:  #000000;\n",
       "        }    #T_eed63494_32f2_11ec_b99a_040e3cacb8f1row4_col3 {\n",
       "            background-color:  #8fb1fe;\n",
       "            color:  #000000;\n",
       "        }    #T_eed63494_32f2_11ec_b99a_040e3cacb8f1row4_col4 {\n",
       "            background-color:  #b40426;\n",
       "            color:  #f1f1f1;\n",
       "        }    #T_eed63494_32f2_11ec_b99a_040e3cacb8f1row4_col5 {\n",
       "            background-color:  #d9dce1;\n",
       "            color:  #000000;\n",
       "        }    #T_eed63494_32f2_11ec_b99a_040e3cacb8f1row4_col6 {\n",
       "            background-color:  #80a3fa;\n",
       "            color:  #000000;\n",
       "        }    #T_eed63494_32f2_11ec_b99a_040e3cacb8f1row5_col0 {\n",
       "            background-color:  #a6c4fe;\n",
       "            color:  #000000;\n",
       "        }    #T_eed63494_32f2_11ec_b99a_040e3cacb8f1row5_col1 {\n",
       "            background-color:  #536edd;\n",
       "            color:  #000000;\n",
       "        }    #T_eed63494_32f2_11ec_b99a_040e3cacb8f1row5_col2 {\n",
       "            background-color:  #779af7;\n",
       "            color:  #000000;\n",
       "        }    #T_eed63494_32f2_11ec_b99a_040e3cacb8f1row5_col3 {\n",
       "            background-color:  #b6cefa;\n",
       "            color:  #000000;\n",
       "        }    #T_eed63494_32f2_11ec_b99a_040e3cacb8f1row5_col4 {\n",
       "            background-color:  #ccd9ed;\n",
       "            color:  #000000;\n",
       "        }    #T_eed63494_32f2_11ec_b99a_040e3cacb8f1row5_col5 {\n",
       "            background-color:  #b40426;\n",
       "            color:  #f1f1f1;\n",
       "        }    #T_eed63494_32f2_11ec_b99a_040e3cacb8f1row5_col6 {\n",
       "            background-color:  #6a8bef;\n",
       "            color:  #000000;\n",
       "        }    #T_eed63494_32f2_11ec_b99a_040e3cacb8f1row6_col0 {\n",
       "            background-color:  #3b4cc0;\n",
       "            color:  #f1f1f1;\n",
       "        }    #T_eed63494_32f2_11ec_b99a_040e3cacb8f1row6_col1 {\n",
       "            background-color:  #3b4cc0;\n",
       "            color:  #f1f1f1;\n",
       "        }    #T_eed63494_32f2_11ec_b99a_040e3cacb8f1row6_col2 {\n",
       "            background-color:  #8db0fe;\n",
       "            color:  #000000;\n",
       "        }    #T_eed63494_32f2_11ec_b99a_040e3cacb8f1row6_col3 {\n",
       "            background-color:  #7ea1fa;\n",
       "            color:  #000000;\n",
       "        }    #T_eed63494_32f2_11ec_b99a_040e3cacb8f1row6_col4 {\n",
       "            background-color:  #4257c9;\n",
       "            color:  #f1f1f1;\n",
       "        }    #T_eed63494_32f2_11ec_b99a_040e3cacb8f1row6_col5 {\n",
       "            background-color:  #445acc;\n",
       "            color:  #f1f1f1;\n",
       "        }    #T_eed63494_32f2_11ec_b99a_040e3cacb8f1row6_col6 {\n",
       "            background-color:  #b40426;\n",
       "            color:  #f1f1f1;\n",
       "        }</style><table id=\"T_eed63494_32f2_11ec_b99a_040e3cacb8f1\" ><thead>    <tr>        <th class=\"blank level0\" ></th>        <th class=\"col_heading level0 col0\" >bwt</th>        <th class=\"col_heading level0 col1\" >gestation</th>        <th class=\"col_heading level0 col2\" >parity</th>        <th class=\"col_heading level0 col3\" >age</th>        <th class=\"col_heading level0 col4\" >height</th>        <th class=\"col_heading level0 col5\" >weight</th>        <th class=\"col_heading level0 col6\" >smoke</th>    </tr></thead><tbody>\n",
       "                <tr>\n",
       "                        <th id=\"T_eed63494_32f2_11ec_b99a_040e3cacb8f1level0_row0\" class=\"row_heading level0 row0\" >bwt</th>\n",
       "                        <td id=\"T_eed63494_32f2_11ec_b99a_040e3cacb8f1row0_col0\" class=\"data row0 col0\" >1</td>\n",
       "                        <td id=\"T_eed63494_32f2_11ec_b99a_040e3cacb8f1row0_col1\" class=\"data row0 col1\" >0.407543</td>\n",
       "                        <td id=\"T_eed63494_32f2_11ec_b99a_040e3cacb8f1row0_col2\" class=\"data row0 col2\" >-0.0439082</td>\n",
       "                        <td id=\"T_eed63494_32f2_11ec_b99a_040e3cacb8f1row0_col3\" class=\"data row0 col3\" >0.0269829</td>\n",
       "                        <td id=\"T_eed63494_32f2_11ec_b99a_040e3cacb8f1row0_col4\" class=\"data row0 col4\" >0.203704</td>\n",
       "                        <td id=\"T_eed63494_32f2_11ec_b99a_040e3cacb8f1row0_col5\" class=\"data row0 col5\" >0.155923</td>\n",
       "                        <td id=\"T_eed63494_32f2_11ec_b99a_040e3cacb8f1row0_col6\" class=\"data row0 col6\" >-0.2468</td>\n",
       "            </tr>\n",
       "            <tr>\n",
       "                        <th id=\"T_eed63494_32f2_11ec_b99a_040e3cacb8f1level0_row1\" class=\"row_heading level0 row1\" >gestation</th>\n",
       "                        <td id=\"T_eed63494_32f2_11ec_b99a_040e3cacb8f1row1_col0\" class=\"data row1 col0\" >0.407543</td>\n",
       "                        <td id=\"T_eed63494_32f2_11ec_b99a_040e3cacb8f1row1_col1\" class=\"data row1 col1\" >1</td>\n",
       "                        <td id=\"T_eed63494_32f2_11ec_b99a_040e3cacb8f1row1_col2\" class=\"data row1 col2\" >0.080916</td>\n",
       "                        <td id=\"T_eed63494_32f2_11ec_b99a_040e3cacb8f1row1_col3\" class=\"data row1 col3\" >-0.0534248</td>\n",
       "                        <td id=\"T_eed63494_32f2_11ec_b99a_040e3cacb8f1row1_col4\" class=\"data row1 col4\" >0.0704699</td>\n",
       "                        <td id=\"T_eed63494_32f2_11ec_b99a_040e3cacb8f1row1_col5\" class=\"data row1 col5\" >0.0236549</td>\n",
       "                        <td id=\"T_eed63494_32f2_11ec_b99a_040e3cacb8f1row1_col6\" class=\"data row1 col6\" >-0.0602668</td>\n",
       "            </tr>\n",
       "            <tr>\n",
       "                        <th id=\"T_eed63494_32f2_11ec_b99a_040e3cacb8f1level0_row2\" class=\"row_heading level0 row2\" >parity</th>\n",
       "                        <td id=\"T_eed63494_32f2_11ec_b99a_040e3cacb8f1row2_col0\" class=\"data row2 col0\" >-0.0439082</td>\n",
       "                        <td id=\"T_eed63494_32f2_11ec_b99a_040e3cacb8f1row2_col1\" class=\"data row2 col1\" >0.080916</td>\n",
       "                        <td id=\"T_eed63494_32f2_11ec_b99a_040e3cacb8f1row2_col2\" class=\"data row2 col2\" >1</td>\n",
       "                        <td id=\"T_eed63494_32f2_11ec_b99a_040e3cacb8f1row2_col3\" class=\"data row2 col3\" >-0.351041</td>\n",
       "                        <td id=\"T_eed63494_32f2_11ec_b99a_040e3cacb8f1row2_col4\" class=\"data row2 col4\" >0.0435435</td>\n",
       "                        <td id=\"T_eed63494_32f2_11ec_b99a_040e3cacb8f1row2_col5\" class=\"data row2 col5\" >-0.0963621</td>\n",
       "                        <td id=\"T_eed63494_32f2_11ec_b99a_040e3cacb8f1row2_col6\" class=\"data row2 col6\" >-0.00959897</td>\n",
       "            </tr>\n",
       "            <tr>\n",
       "                        <th id=\"T_eed63494_32f2_11ec_b99a_040e3cacb8f1level0_row3\" class=\"row_heading level0 row3\" >age</th>\n",
       "                        <td id=\"T_eed63494_32f2_11ec_b99a_040e3cacb8f1row3_col0\" class=\"data row3 col0\" >0.0269829</td>\n",
       "                        <td id=\"T_eed63494_32f2_11ec_b99a_040e3cacb8f1row3_col1\" class=\"data row3 col1\" >-0.0534248</td>\n",
       "                        <td id=\"T_eed63494_32f2_11ec_b99a_040e3cacb8f1row3_col2\" class=\"data row3 col2\" >-0.351041</td>\n",
       "                        <td id=\"T_eed63494_32f2_11ec_b99a_040e3cacb8f1row3_col3\" class=\"data row3 col3\" >1</td>\n",
       "                        <td id=\"T_eed63494_32f2_11ec_b99a_040e3cacb8f1row3_col4\" class=\"data row3 col4\" >-0.00645285</td>\n",
       "                        <td id=\"T_eed63494_32f2_11ec_b99a_040e3cacb8f1row3_col5\" class=\"data row3 col5\" >0.147322</td>\n",
       "                        <td id=\"T_eed63494_32f2_11ec_b99a_040e3cacb8f1row3_col6\" class=\"data row3 col6\" >-0.0677719</td>\n",
       "            </tr>\n",
       "            <tr>\n",
       "                        <th id=\"T_eed63494_32f2_11ec_b99a_040e3cacb8f1level0_row4\" class=\"row_heading level0 row4\" >height</th>\n",
       "                        <td id=\"T_eed63494_32f2_11ec_b99a_040e3cacb8f1row4_col0\" class=\"data row4 col0\" >0.203704</td>\n",
       "                        <td id=\"T_eed63494_32f2_11ec_b99a_040e3cacb8f1row4_col1\" class=\"data row4 col1\" >0.0704699</td>\n",
       "                        <td id=\"T_eed63494_32f2_11ec_b99a_040e3cacb8f1row4_col2\" class=\"data row4 col2\" >0.0435435</td>\n",
       "                        <td id=\"T_eed63494_32f2_11ec_b99a_040e3cacb8f1row4_col3\" class=\"data row4 col3\" >-0.00645285</td>\n",
       "                        <td id=\"T_eed63494_32f2_11ec_b99a_040e3cacb8f1row4_col4\" class=\"data row4 col4\" >1</td>\n",
       "                        <td id=\"T_eed63494_32f2_11ec_b99a_040e3cacb8f1row4_col5\" class=\"data row4 col5\" >0.435287</td>\n",
       "                        <td id=\"T_eed63494_32f2_11ec_b99a_040e3cacb8f1row4_col6\" class=\"data row4 col6\" >0.0175066</td>\n",
       "            </tr>\n",
       "            <tr>\n",
       "                        <th id=\"T_eed63494_32f2_11ec_b99a_040e3cacb8f1level0_row5\" class=\"row_heading level0 row5\" >weight</th>\n",
       "                        <td id=\"T_eed63494_32f2_11ec_b99a_040e3cacb8f1row5_col0\" class=\"data row5 col0\" >0.155923</td>\n",
       "                        <td id=\"T_eed63494_32f2_11ec_b99a_040e3cacb8f1row5_col1\" class=\"data row5 col1\" >0.0236549</td>\n",
       "                        <td id=\"T_eed63494_32f2_11ec_b99a_040e3cacb8f1row5_col2\" class=\"data row5 col2\" >-0.0963621</td>\n",
       "                        <td id=\"T_eed63494_32f2_11ec_b99a_040e3cacb8f1row5_col3\" class=\"data row5 col3\" >0.147322</td>\n",
       "                        <td id=\"T_eed63494_32f2_11ec_b99a_040e3cacb8f1row5_col4\" class=\"data row5 col4\" >0.435287</td>\n",
       "                        <td id=\"T_eed63494_32f2_11ec_b99a_040e3cacb8f1row5_col5\" class=\"data row5 col5\" >1</td>\n",
       "                        <td id=\"T_eed63494_32f2_11ec_b99a_040e3cacb8f1row5_col6\" class=\"data row5 col6\" >-0.0602814</td>\n",
       "            </tr>\n",
       "            <tr>\n",
       "                        <th id=\"T_eed63494_32f2_11ec_b99a_040e3cacb8f1level0_row6\" class=\"row_heading level0 row6\" >smoke</th>\n",
       "                        <td id=\"T_eed63494_32f2_11ec_b99a_040e3cacb8f1row6_col0\" class=\"data row6 col0\" >-0.2468</td>\n",
       "                        <td id=\"T_eed63494_32f2_11ec_b99a_040e3cacb8f1row6_col1\" class=\"data row6 col1\" >-0.0602668</td>\n",
       "                        <td id=\"T_eed63494_32f2_11ec_b99a_040e3cacb8f1row6_col2\" class=\"data row6 col2\" >-0.00959897</td>\n",
       "                        <td id=\"T_eed63494_32f2_11ec_b99a_040e3cacb8f1row6_col3\" class=\"data row6 col3\" >-0.0677719</td>\n",
       "                        <td id=\"T_eed63494_32f2_11ec_b99a_040e3cacb8f1row6_col4\" class=\"data row6 col4\" >0.0175066</td>\n",
       "                        <td id=\"T_eed63494_32f2_11ec_b99a_040e3cacb8f1row6_col5\" class=\"data row6 col5\" >-0.0602814</td>\n",
       "                        <td id=\"T_eed63494_32f2_11ec_b99a_040e3cacb8f1row6_col6\" class=\"data row6 col6\" >1</td>\n",
       "            </tr>\n",
       "    </tbody></table>"
      ],
      "text/plain": [
       "<pandas.io.formats.style.Styler at 0x1a7ffca7408>"
      ]
     },
     "execution_count": 9,
     "metadata": {},
     "output_type": "execute_result"
    }
   ],
   "source": [
    "df.corr().style.background_gradient(cmap='coolwarm')"
   ]
  },
  {
   "cell_type": "code",
   "execution_count": 10,
   "metadata": {
    "colab": {
     "base_uri": "https://localhost:8080/",
     "height": 286
    },
    "id": "8qZXm_NWO4ow",
    "outputId": "27f06dd3-f51c-4c1b-aab6-6ea84f997cae"
   },
   "outputs": [
    {
     "data": {
      "text/plain": [
       "<matplotlib.axes._subplots.AxesSubplot at 0x1a7ffea57c8>"
      ]
     },
     "execution_count": 10,
     "metadata": {},
     "output_type": "execute_result"
    },
    {
     "data": {
      "image/png": "[encoded data removed]",
      "text/plain": [
       "<Figure size 432x288 with 2 Axes>"
      ]
     },
     "metadata": {
      "needs_background": "light"
     },
     "output_type": "display_data"
    }
   ],
   "source": [
    "sns.heatmap(df.corr(), annot = True, fmt='.2g',cmap= 'coolwarm')"
   ]
  },
  {
   "cell_type": "markdown",
   "metadata": {
    "id": "SbSsgys8O-A7"
   },
   "source": [
    "Dark red means positive, Blue means negative. The stronger the color, the larger the correlation magnitude."
   ]
  },
  {
   "cell_type": "code",
   "execution_count": 11,
   "metadata": {
    "colab": {
     "base_uri": "https://localhost:8080/",
     "height": 297
    },
    "id": "TmBDNanGQBHn",
    "outputId": "c3776d2d-3b00-4b67-a549-584ff3c94529"
   },
   "outputs": [
    {
     "data": {
      "text/plain": [
       "<matplotlib.axes._subplots.AxesSubplot at 0x1a7a804cbc8>"
      ]
     },
     "execution_count": 11,
     "metadata": {},
     "output_type": "execute_result"
    },
    {
     "data": {
      "image/png": "[encoded data removed]",
      "text/plain": [
       "<Figure size 432x288 with 1 Axes>"
      ]
     },
     "metadata": {
      "needs_background": "light"
     },
     "output_type": "display_data"
    }
   ],
   "source": [
    "df.plot.scatter(x='weight',y='bwt')"
   ]
  },
  {
   "cell_type": "code",
   "execution_count": 12,
   "metadata": {
    "colab": {
     "base_uri": "https://localhost:8080/",
     "height": 296
    },
    "id": "s1QvCIXjQQM0",
    "outputId": "d9aa4438-f057-4e6c-98cb-a3233464e59a"
   },
   "outputs": [
    {
     "data": {
      "text/plain": [
       "<matplotlib.axes._subplots.AxesSubplot at 0x1a7ffc6b948>"
      ]
     },
     "execution_count": 12,
     "metadata": {},
     "output_type": "execute_result"
    },
    {
     "data": {
      "image/png": "[encoded data removed]",
      "text/plain": [
       "<Figure size 432x288 with 1 Axes>"
      ]
     },
     "metadata": {
      "needs_background": "light"
     },
     "output_type": "display_data"
    }
   ],
   "source": [
    "df.plot.scatter(x='bwt',y='weight')"
   ]
  },
  {
   "cell_type": "code",
   "execution_count": 13,
   "metadata": {
    "id": "7CCYsT-6Qia2"
   },
   "outputs": [],
   "source": [
    "corrMatrix = df.corr().abs()\n",
    "\n",
    "upperMatrix = corrMatrix.where(np.triu(np.ones(corrMatrix.shape), k=1).astype(np.bool))\n",
    "\n",
    "# Find index of feature columns with correlation greater than 0.90\n",
    "corrFutures = [column for column in upperMatrix.columns if any(upperMatrix[column] > 0.90)]"
   ]
  },
  {
   "cell_type": "code",
   "execution_count": 14,
   "metadata": {
    "colab": {
     "base_uri": "https://localhost:8080/",
     "height": 417
    },
    "id": "1lOJfreGQxYx",
    "outputId": "db7ec3ee-0947-41ab-dc4a-22f0aeec15ca"
   },
   "outputs": [
    {
     "data": {
      "text/html": [
       "<div>\n",
       "<style scoped>\n",
       "    .dataframe tbody tr th:only-of-type {\n",
       "        vertical-align: middle;\n",
       "    }\n",
       "\n",
       "    .dataframe tbody tr th {\n",
       "        vertical-align: top;\n",
       "    }\n",
       "\n",
       "    .dataframe thead th {\n",
       "        text-align: right;\n",
       "    }\n",
       "</style>\n",
       "<table border=\"1\" class=\"dataframe\">\n",
       "  <thead>\n",
       "    <tr style=\"text-align: right;\">\n",
       "      <th></th>\n",
       "      <th>bwt</th>\n",
       "      <th>gestation</th>\n",
       "      <th>parity</th>\n",
       "      <th>age</th>\n",
       "      <th>height</th>\n",
       "      <th>weight</th>\n",
       "      <th>smoke</th>\n",
       "    </tr>\n",
       "  </thead>\n",
       "  <tbody>\n",
       "    <tr>\n",
       "      <td>0</td>\n",
       "      <td>120</td>\n",
       "      <td>284</td>\n",
       "      <td>0</td>\n",
       "      <td>27</td>\n",
       "      <td>62</td>\n",
       "      <td>100</td>\n",
       "      <td>0</td>\n",
       "    </tr>\n",
       "    <tr>\n",
       "      <td>1</td>\n",
       "      <td>113</td>\n",
       "      <td>282</td>\n",
       "      <td>0</td>\n",
       "      <td>33</td>\n",
       "      <td>64</td>\n",
       "      <td>135</td>\n",
       "      <td>0</td>\n",
       "    </tr>\n",
       "    <tr>\n",
       "      <td>2</td>\n",
       "      <td>128</td>\n",
       "      <td>279</td>\n",
       "      <td>0</td>\n",
       "      <td>28</td>\n",
       "      <td>64</td>\n",
       "      <td>115</td>\n",
       "      <td>1</td>\n",
       "    </tr>\n",
       "    <tr>\n",
       "      <td>3</td>\n",
       "      <td>108</td>\n",
       "      <td>282</td>\n",
       "      <td>0</td>\n",
       "      <td>23</td>\n",
       "      <td>67</td>\n",
       "      <td>125</td>\n",
       "      <td>1</td>\n",
       "    </tr>\n",
       "    <tr>\n",
       "      <td>4</td>\n",
       "      <td>136</td>\n",
       "      <td>286</td>\n",
       "      <td>0</td>\n",
       "      <td>25</td>\n",
       "      <td>62</td>\n",
       "      <td>93</td>\n",
       "      <td>0</td>\n",
       "    </tr>\n",
       "    <tr>\n",
       "      <td>...</td>\n",
       "      <td>...</td>\n",
       "      <td>...</td>\n",
       "      <td>...</td>\n",
       "      <td>...</td>\n",
       "      <td>...</td>\n",
       "      <td>...</td>\n",
       "      <td>...</td>\n",
       "    </tr>\n",
       "    <tr>\n",
       "      <td>1169</td>\n",
       "      <td>113</td>\n",
       "      <td>275</td>\n",
       "      <td>1</td>\n",
       "      <td>27</td>\n",
       "      <td>60</td>\n",
       "      <td>100</td>\n",
       "      <td>0</td>\n",
       "    </tr>\n",
       "    <tr>\n",
       "      <td>1170</td>\n",
       "      <td>128</td>\n",
       "      <td>265</td>\n",
       "      <td>0</td>\n",
       "      <td>24</td>\n",
       "      <td>67</td>\n",
       "      <td>120</td>\n",
       "      <td>0</td>\n",
       "    </tr>\n",
       "    <tr>\n",
       "      <td>1171</td>\n",
       "      <td>130</td>\n",
       "      <td>291</td>\n",
       "      <td>0</td>\n",
       "      <td>30</td>\n",
       "      <td>65</td>\n",
       "      <td>150</td>\n",
       "      <td>1</td>\n",
       "    </tr>\n",
       "    <tr>\n",
       "      <td>1172</td>\n",
       "      <td>125</td>\n",
       "      <td>281</td>\n",
       "      <td>1</td>\n",
       "      <td>21</td>\n",
       "      <td>65</td>\n",
       "      <td>110</td>\n",
       "      <td>0</td>\n",
       "    </tr>\n",
       "    <tr>\n",
       "      <td>1173</td>\n",
       "      <td>117</td>\n",
       "      <td>297</td>\n",
       "      <td>0</td>\n",
       "      <td>38</td>\n",
       "      <td>65</td>\n",
       "      <td>129</td>\n",
       "      <td>0</td>\n",
       "    </tr>\n",
       "  </tbody>\n",
       "</table>\n",
       "<p>1174 rows × 7 columns</p>\n",
       "</div>"
      ],
      "text/plain": [
       "      bwt  gestation  parity  age  height  weight  smoke\n",
       "0     120        284       0   27      62     100      0\n",
       "1     113        282       0   33      64     135      0\n",
       "2     128        279       0   28      64     115      1\n",
       "3     108        282       0   23      67     125      1\n",
       "4     136        286       0   25      62      93      0\n",
       "...   ...        ...     ...  ...     ...     ...    ...\n",
       "1169  113        275       1   27      60     100      0\n",
       "1170  128        265       0   24      67     120      0\n",
       "1171  130        291       0   30      65     150      1\n",
       "1172  125        281       1   21      65     110      0\n",
       "1173  117        297       0   38      65     129      0\n",
       "\n",
       "[1174 rows x 7 columns]"
      ]
     },
     "execution_count": 14,
     "metadata": {},
     "output_type": "execute_result"
    }
   ],
   "source": [
    "df.drop(columns=corrFutures)"
   ]
  },
  {
   "cell_type": "code",
   "execution_count": 15,
   "metadata": {
    "colab": {
     "base_uri": "https://localhost:8080/",
     "height": 357
    },
    "id": "NBjgOfKUQ1iq",
    "outputId": "fcc7dcad-4d2f-45c8-f0cb-a0d9ae338322"
   },
   "outputs": [
    {
     "data": {
      "text/html": [
       "<div>\n",
       "<style scoped>\n",
       "    .dataframe tbody tr th:only-of-type {\n",
       "        vertical-align: middle;\n",
       "    }\n",
       "\n",
       "    .dataframe tbody tr th {\n",
       "        vertical-align: top;\n",
       "    }\n",
       "\n",
       "    .dataframe thead th {\n",
       "        text-align: right;\n",
       "    }\n",
       "</style>\n",
       "<table border=\"1\" class=\"dataframe\">\n",
       "  <thead>\n",
       "    <tr style=\"text-align: right;\">\n",
       "      <th></th>\n",
       "      <th>bwt</th>\n",
       "      <th>gestation</th>\n",
       "      <th>parity</th>\n",
       "      <th>age</th>\n",
       "      <th>height</th>\n",
       "      <th>weight</th>\n",
       "      <th>smoke</th>\n",
       "    </tr>\n",
       "  </thead>\n",
       "  <tbody>\n",
       "    <tr>\n",
       "      <td>0</td>\n",
       "      <td>120</td>\n",
       "      <td>284</td>\n",
       "      <td>0</td>\n",
       "      <td>27</td>\n",
       "      <td>62</td>\n",
       "      <td>100</td>\n",
       "      <td>0</td>\n",
       "    </tr>\n",
       "    <tr>\n",
       "      <td>1</td>\n",
       "      <td>113</td>\n",
       "      <td>282</td>\n",
       "      <td>0</td>\n",
       "      <td>33</td>\n",
       "      <td>64</td>\n",
       "      <td>135</td>\n",
       "      <td>0</td>\n",
       "    </tr>\n",
       "    <tr>\n",
       "      <td>2</td>\n",
       "      <td>128</td>\n",
       "      <td>279</td>\n",
       "      <td>0</td>\n",
       "      <td>28</td>\n",
       "      <td>64</td>\n",
       "      <td>115</td>\n",
       "      <td>1</td>\n",
       "    </tr>\n",
       "    <tr>\n",
       "      <td>3</td>\n",
       "      <td>108</td>\n",
       "      <td>282</td>\n",
       "      <td>0</td>\n",
       "      <td>23</td>\n",
       "      <td>67</td>\n",
       "      <td>125</td>\n",
       "      <td>1</td>\n",
       "    </tr>\n",
       "    <tr>\n",
       "      <td>4</td>\n",
       "      <td>136</td>\n",
       "      <td>286</td>\n",
       "      <td>0</td>\n",
       "      <td>25</td>\n",
       "      <td>62</td>\n",
       "      <td>93</td>\n",
       "      <td>0</td>\n",
       "    </tr>\n",
       "    <tr>\n",
       "      <td>5</td>\n",
       "      <td>138</td>\n",
       "      <td>244</td>\n",
       "      <td>0</td>\n",
       "      <td>33</td>\n",
       "      <td>62</td>\n",
       "      <td>178</td>\n",
       "      <td>0</td>\n",
       "    </tr>\n",
       "    <tr>\n",
       "      <td>6</td>\n",
       "      <td>132</td>\n",
       "      <td>245</td>\n",
       "      <td>0</td>\n",
       "      <td>23</td>\n",
       "      <td>65</td>\n",
       "      <td>140</td>\n",
       "      <td>0</td>\n",
       "    </tr>\n",
       "    <tr>\n",
       "      <td>7</td>\n",
       "      <td>120</td>\n",
       "      <td>289</td>\n",
       "      <td>0</td>\n",
       "      <td>25</td>\n",
       "      <td>62</td>\n",
       "      <td>125</td>\n",
       "      <td>0</td>\n",
       "    </tr>\n",
       "    <tr>\n",
       "      <td>8</td>\n",
       "      <td>143</td>\n",
       "      <td>299</td>\n",
       "      <td>0</td>\n",
       "      <td>30</td>\n",
       "      <td>66</td>\n",
       "      <td>136</td>\n",
       "      <td>1</td>\n",
       "    </tr>\n",
       "    <tr>\n",
       "      <td>9</td>\n",
       "      <td>140</td>\n",
       "      <td>351</td>\n",
       "      <td>0</td>\n",
       "      <td>27</td>\n",
       "      <td>68</td>\n",
       "      <td>120</td>\n",
       "      <td>0</td>\n",
       "    </tr>\n",
       "  </tbody>\n",
       "</table>\n",
       "</div>"
      ],
      "text/plain": [
       "   bwt  gestation  parity  age  height  weight  smoke\n",
       "0  120        284       0   27      62     100      0\n",
       "1  113        282       0   33      64     135      0\n",
       "2  128        279       0   28      64     115      1\n",
       "3  108        282       0   23      67     125      1\n",
       "4  136        286       0   25      62      93      0\n",
       "5  138        244       0   33      62     178      0\n",
       "6  132        245       0   23      65     140      0\n",
       "7  120        289       0   25      62     125      0\n",
       "8  143        299       0   30      66     136      1\n",
       "9  140        351       0   27      68     120      0"
      ]
     },
     "execution_count": 15,
     "metadata": {},
     "output_type": "execute_result"
    }
   ],
   "source": [
    "df.head(10)"
   ]
  },
  {
   "cell_type": "markdown",
   "metadata": {
    "id": "2859123f"
   },
   "source": [
    "#\tTesting the association of mother’s (age) age and baby’s birth weight (bwt) using the correlation test and linear regression. "
   ]
  },
  {
   "cell_type": "code",
   "execution_count": 16,
   "metadata": {
    "colab": {
     "base_uri": "https://localhost:8080/"
    },
    "id": "75cb0733",
    "outputId": "dcec365c-4f9d-4c05-abcb-46a79d61af27"
   },
   "outputs": [
    {
     "name": "stdout",
     "output_type": "stream",
     "text": [
      "Correlation :  0.026982911002929492\n"
     ]
    }
   ],
   "source": [
    "print(\"Correlation : \", df['age'].corr(df['bwt']))"
   ]
  },
  {
   "cell_type": "markdown",
   "metadata": {
    "id": "aa0cf995"
   },
   "source": [
    " Correlation between Mother's Age and Baby's Birth Weight is ***very low*** "
   ]
  },
  {
   "cell_type": "markdown",
   "metadata": {
    "id": "ktLETPOERgl5"
   },
   "source": []
  },
  {
   "cell_type": "markdown",
   "metadata": {
    "id": "RTNXiIOXXZlc"
   },
   "source": [
    "#######################################################################################################"
   ]
  },
  {
   "cell_type": "markdown",
   "metadata": {
    "id": "YCwBsc6fvUlO"
   },
   "source": [
    "# ***Training the Linear Regression model for mother’s age and baby’s birth weight (bwt)***"
   ]
  },
  {
   "cell_type": "markdown",
   "metadata": {
    "id": "LDxsX36pdZ6l"
   },
   "source": [
    "Testing the association of mother’s weight (weight) and birth weight (bwt) using the correlation test and linear regression. "
   ]
  },
  {
   "cell_type": "code",
   "execution_count": 17,
   "metadata": {
    "colab": {
     "base_uri": "https://localhost:8080/"
    },
    "id": "HDpXDMl-Reqf",
    "outputId": "91700e68-1374-41e8-d09d-7e02715a42d4"
   },
   "outputs": [
    {
     "name": "stdout",
     "output_type": "stream",
     "text": [
      "Correlation :  0.1559232701870693\n"
     ]
    }
   ],
   "source": [
    "print(\"Correlation : \", df['weight'].corr(df['bwt']))"
   ]
  },
  {
   "cell_type": "code",
   "execution_count": 18,
   "metadata": {
    "colab": {
     "base_uri": "https://localhost:8080/",
     "height": 203
    },
    "id": "vyAmvYpaSkKz",
    "outputId": "6f520085-bf97-4771-890f-731d1535d0ff"
   },
   "outputs": [
    {
     "data": {
      "text/html": [
       "<div>\n",
       "<style scoped>\n",
       "    .dataframe tbody tr th:only-of-type {\n",
       "        vertical-align: middle;\n",
       "    }\n",
       "\n",
       "    .dataframe tbody tr th {\n",
       "        vertical-align: top;\n",
       "    }\n",
       "\n",
       "    .dataframe thead th {\n",
       "        text-align: right;\n",
       "    }\n",
       "</style>\n",
       "<table border=\"1\" class=\"dataframe\">\n",
       "  <thead>\n",
       "    <tr style=\"text-align: right;\">\n",
       "      <th></th>\n",
       "      <th>bwt</th>\n",
       "      <th>gestation</th>\n",
       "      <th>parity</th>\n",
       "      <th>age</th>\n",
       "      <th>height</th>\n",
       "      <th>weight</th>\n",
       "      <th>smoke</th>\n",
       "    </tr>\n",
       "  </thead>\n",
       "  <tbody>\n",
       "    <tr>\n",
       "      <td>0</td>\n",
       "      <td>120</td>\n",
       "      <td>284</td>\n",
       "      <td>0</td>\n",
       "      <td>27</td>\n",
       "      <td>62</td>\n",
       "      <td>100</td>\n",
       "      <td>0</td>\n",
       "    </tr>\n",
       "    <tr>\n",
       "      <td>1</td>\n",
       "      <td>113</td>\n",
       "      <td>282</td>\n",
       "      <td>0</td>\n",
       "      <td>33</td>\n",
       "      <td>64</td>\n",
       "      <td>135</td>\n",
       "      <td>0</td>\n",
       "    </tr>\n",
       "    <tr>\n",
       "      <td>2</td>\n",
       "      <td>128</td>\n",
       "      <td>279</td>\n",
       "      <td>0</td>\n",
       "      <td>28</td>\n",
       "      <td>64</td>\n",
       "      <td>115</td>\n",
       "      <td>1</td>\n",
       "    </tr>\n",
       "    <tr>\n",
       "      <td>3</td>\n",
       "      <td>108</td>\n",
       "      <td>282</td>\n",
       "      <td>0</td>\n",
       "      <td>23</td>\n",
       "      <td>67</td>\n",
       "      <td>125</td>\n",
       "      <td>1</td>\n",
       "    </tr>\n",
       "    <tr>\n",
       "      <td>4</td>\n",
       "      <td>136</td>\n",
       "      <td>286</td>\n",
       "      <td>0</td>\n",
       "      <td>25</td>\n",
       "      <td>62</td>\n",
       "      <td>93</td>\n",
       "      <td>0</td>\n",
       "    </tr>\n",
       "  </tbody>\n",
       "</table>\n",
       "</div>"
      ],
      "text/plain": [
       "   bwt  gestation  parity  age  height  weight  smoke\n",
       "0  120        284       0   27      62     100      0\n",
       "1  113        282       0   33      64     135      0\n",
       "2  128        279       0   28      64     115      1\n",
       "3  108        282       0   23      67     125      1\n",
       "4  136        286       0   25      62      93      0"
      ]
     },
     "execution_count": 18,
     "metadata": {},
     "output_type": "execute_result"
    }
   ],
   "source": [
    "df.head()"
   ]
  },
  {
   "cell_type": "code",
   "execution_count": 19,
   "metadata": {
    "id": "y4R6F2iSSVVj"
   },
   "outputs": [],
   "source": [
    "X = df.iloc[:,3:4]\n",
    "y = df.iloc[:,0:1]"
   ]
  },
  {
   "cell_type": "code",
   "execution_count": 20,
   "metadata": {
    "colab": {
     "base_uri": "https://localhost:8080/"
    },
    "id": "hulEbWnTStfo",
    "outputId": "5a8d1593-de97-4b40-d632-d9a56c48c782"
   },
   "outputs": [
    {
     "name": "stdout",
     "output_type": "stream",
     "text": [
      "      age\n",
      "0      27\n",
      "1      33\n",
      "2      28\n",
      "3      23\n",
      "4      25\n",
      "...   ...\n",
      "1169   27\n",
      "1170   24\n",
      "1171   30\n",
      "1172   21\n",
      "1173   38\n",
      "\n",
      "[1174 rows x 1 columns]\n"
     ]
    }
   ],
   "source": [
    "print(X)"
   ]
  },
  {
   "cell_type": "code",
   "execution_count": 21,
   "metadata": {
    "colab": {
     "base_uri": "https://localhost:8080/"
    },
    "id": "AJxWFAfxS1In",
    "outputId": "46b7e669-5bc4-4cfd-e854-ed6a4866be98"
   },
   "outputs": [
    {
     "name": "stdout",
     "output_type": "stream",
     "text": [
      "      bwt\n",
      "0     120\n",
      "1     113\n",
      "2     128\n",
      "3     108\n",
      "4     136\n",
      "...   ...\n",
      "1169  113\n",
      "1170  128\n",
      "1171  130\n",
      "1172  125\n",
      "1173  117\n",
      "\n",
      "[1174 rows x 1 columns]\n"
     ]
    }
   ],
   "source": [
    "print(y)"
   ]
  },
  {
   "cell_type": "markdown",
   "metadata": {
    "id": "WfYuJR0JSRi1"
   },
   "source": [
    "Splitting the dataset"
   ]
  },
  {
   "cell_type": "code",
   "execution_count": 22,
   "metadata": {
    "id": "juV5fM7GSTLk"
   },
   "outputs": [],
   "source": [
    "from sklearn.model_selection import train_test_split\n",
    "\n",
    "X_train, X_test, y_train, y_test = train_test_split(X, y, test_size=0.2, random_state=0)"
   ]
  },
  {
   "cell_type": "code",
   "execution_count": 23,
   "metadata": {
    "id": "sjacKDlESL2z"
   },
   "outputs": [],
   "source": [
    "\n",
    "from sklearn.linear_model import LinearRegression\n",
    "\n",
    "regressor = LinearRegression()\n",
    "# Upto here was the builing part, now we have to train the model after we have built it"
   ]
  },
  {
   "cell_type": "code",
   "execution_count": 24,
   "metadata": {
    "colab": {
     "base_uri": "https://localhost:8080/"
    },
    "id": "MkjUp-tLS8Xo",
    "outputId": "45ed1c9b-d114-4fe1-e2e1-1da51a3a3a25"
   },
   "outputs": [
    {
     "data": {
      "text/plain": [
       "LinearRegression(copy_X=True, fit_intercept=True, n_jobs=None, normalize=False)"
      ]
     },
     "execution_count": 24,
     "metadata": {},
     "output_type": "execute_result"
    }
   ],
   "source": [
    "# To connect our model we use the fit method\n",
    "\n",
    "# X_train contains the features of the dataset\n",
    "# y_train contins the dependant varaibles \n",
    "regressor.fit(X_train, y_train)"
   ]
  },
  {
   "cell_type": "markdown",
   "metadata": {
    "id": "BiiHdNuxVMO4"
   },
   "source": [
    "# Predicting test results"
   ]
  },
  {
   "cell_type": "code",
   "execution_count": 25,
   "metadata": {
    "colab": {
     "base_uri": "https://localhost:8080/"
    },
    "id": "rL7Lw4YnVL60",
    "outputId": "4e73724c-8f52-44ab-ac89-043d45195fc1"
   },
   "outputs": [
    {
     "data": {
      "text/plain": [
       "array([[119.90720144],\n",
       "       [121.10662306],\n",
       "       [119.82152847],\n",
       "       [119.47883658],\n",
       "       [120.07854739],\n",
       "       [119.56450955],\n",
       "       [120.76393117],\n",
       "       [119.56450955],\n",
       "       [119.56450955],\n",
       "       [120.16422036],\n",
       "       [120.16422036],\n",
       "       [120.3355663 ],\n",
       "       [120.24989333],\n",
       "       [119.56450955],\n",
       "       [120.3355663 ],\n",
       "       [119.99287441],\n",
       "       [119.56450955],\n",
       "       [119.47883658],\n",
       "       [121.277969  ],\n",
       "       [120.3355663 ],\n",
       "       [121.02095008],\n",
       "       [119.56450955],\n",
       "       [120.59258522],\n",
       "       [119.65018252],\n",
       "       [120.93527711],\n",
       "       [119.90720144],\n",
       "       [119.82152847],\n",
       "       [119.82152847],\n",
       "       [120.42123928],\n",
       "       [120.07854739],\n",
       "       [119.90720144],\n",
       "       [120.93527711],\n",
       "       [119.56450955],\n",
       "       [120.93527711],\n",
       "       [120.93527711],\n",
       "       [119.82152847],\n",
       "       [119.65018252],\n",
       "       [119.90720144],\n",
       "       [119.90720144],\n",
       "       [119.56450955],\n",
       "       [119.82152847],\n",
       "       [119.65018252],\n",
       "       [120.16422036],\n",
       "       [119.3931636 ],\n",
       "       [120.24989333],\n",
       "       [119.47883658],\n",
       "       [119.3931636 ],\n",
       "       [121.02095008],\n",
       "       [119.47883658],\n",
       "       [120.42123928],\n",
       "       [120.24989333],\n",
       "       [120.07854739],\n",
       "       [119.90720144],\n",
       "       [120.50691225],\n",
       "       [119.56450955],\n",
       "       [121.10662306],\n",
       "       [120.16422036],\n",
       "       [119.73585549],\n",
       "       [120.50691225],\n",
       "       [119.30749063],\n",
       "       [120.42123928],\n",
       "       [119.47883658],\n",
       "       [119.3931636 ],\n",
       "       [120.07854739],\n",
       "       [119.3931636 ],\n",
       "       [119.47883658],\n",
       "       [119.82152847],\n",
       "       [119.90720144],\n",
       "       [119.65018252],\n",
       "       [120.07854739],\n",
       "       [119.73585549],\n",
       "       [119.99287441],\n",
       "       [119.90720144],\n",
       "       [119.3931636 ],\n",
       "       [119.99287441],\n",
       "       [119.65018252],\n",
       "       [119.56450955],\n",
       "       [119.3931636 ],\n",
       "       [119.90720144],\n",
       "       [121.277969  ],\n",
       "       [120.07854739],\n",
       "       [120.84960414],\n",
       "       [120.07854739],\n",
       "       [120.16422036],\n",
       "       [120.3355663 ],\n",
       "       [121.277969  ],\n",
       "       [119.73585549],\n",
       "       [121.19229603],\n",
       "       [120.24989333],\n",
       "       [119.73585549],\n",
       "       [120.16422036],\n",
       "       [119.73585549],\n",
       "       [119.22181766],\n",
       "       [120.07854739],\n",
       "       [119.73585549],\n",
       "       [119.73585549],\n",
       "       [120.67825819],\n",
       "       [119.47883658],\n",
       "       [120.07854739],\n",
       "       [119.73585549],\n",
       "       [120.76393117],\n",
       "       [120.24989333],\n",
       "       [119.47883658],\n",
       "       [120.24989333],\n",
       "       [121.10662306],\n",
       "       [120.07854739],\n",
       "       [119.65018252],\n",
       "       [120.50691225],\n",
       "       [120.42123928],\n",
       "       [121.44931495],\n",
       "       [121.02095008],\n",
       "       [120.24989333],\n",
       "       [120.24989333],\n",
       "       [119.90720144],\n",
       "       [119.82152847],\n",
       "       [120.59258522],\n",
       "       [120.50691225],\n",
       "       [119.73585549],\n",
       "       [120.59258522],\n",
       "       [119.3931636 ],\n",
       "       [120.16422036],\n",
       "       [121.02095008],\n",
       "       [120.42123928],\n",
       "       [119.90720144],\n",
       "       [119.73585549],\n",
       "       [121.277969  ],\n",
       "       [119.65018252],\n",
       "       [119.99287441],\n",
       "       [119.47883658],\n",
       "       [120.24989333],\n",
       "       [119.82152847],\n",
       "       [119.73585549],\n",
       "       [119.82152847],\n",
       "       [120.16422036],\n",
       "       [119.65018252],\n",
       "       [120.50691225],\n",
       "       [119.47883658],\n",
       "       [120.07854739],\n",
       "       [120.42123928],\n",
       "       [120.16422036],\n",
       "       [120.3355663 ],\n",
       "       [119.99287441],\n",
       "       [120.07854739],\n",
       "       [119.99287441],\n",
       "       [119.47883658],\n",
       "       [120.59258522],\n",
       "       [121.10662306],\n",
       "       [119.65018252],\n",
       "       [120.24989333],\n",
       "       [120.3355663 ],\n",
       "       [120.59258522],\n",
       "       [121.44931495],\n",
       "       [119.56450955],\n",
       "       [119.82152847],\n",
       "       [120.16422036],\n",
       "       [119.82152847],\n",
       "       [120.24989333],\n",
       "       [120.84960414],\n",
       "       [120.24989333],\n",
       "       [120.59258522],\n",
       "       [119.56450955],\n",
       "       [120.07854739],\n",
       "       [119.65018252],\n",
       "       [119.82152847],\n",
       "       [120.16422036],\n",
       "       [120.24989333],\n",
       "       [119.65018252],\n",
       "       [119.56450955],\n",
       "       [119.82152847],\n",
       "       [119.73585549],\n",
       "       [120.07854739],\n",
       "       [119.73585549],\n",
       "       [120.59258522],\n",
       "       [119.90720144],\n",
       "       [120.67825819],\n",
       "       [119.90720144],\n",
       "       [119.90720144],\n",
       "       [119.65018252],\n",
       "       [119.73585549],\n",
       "       [119.90720144],\n",
       "       [120.67825819],\n",
       "       [119.90720144],\n",
       "       [119.3931636 ],\n",
       "       [119.3931636 ],\n",
       "       [119.73585549],\n",
       "       [120.84960414],\n",
       "       [120.3355663 ],\n",
       "       [120.50691225],\n",
       "       [121.02095008],\n",
       "       [119.47883658],\n",
       "       [120.07854739],\n",
       "       [119.3931636 ],\n",
       "       [119.3931636 ],\n",
       "       [119.3931636 ],\n",
       "       [120.16422036],\n",
       "       [119.47883658],\n",
       "       [120.16422036],\n",
       "       [120.16422036],\n",
       "       [119.56450955],\n",
       "       [119.73585549],\n",
       "       [121.02095008],\n",
       "       [121.19229603],\n",
       "       [119.65018252],\n",
       "       [119.30749063],\n",
       "       [119.3931636 ],\n",
       "       [121.10662306],\n",
       "       [120.24989333],\n",
       "       [119.3931636 ],\n",
       "       [119.3931636 ],\n",
       "       [119.73585549],\n",
       "       [119.65018252],\n",
       "       [120.24989333],\n",
       "       [119.90720144],\n",
       "       [119.3931636 ],\n",
       "       [119.99287441],\n",
       "       [119.47883658],\n",
       "       [119.90720144],\n",
       "       [119.47883658],\n",
       "       [120.24989333],\n",
       "       [119.65018252],\n",
       "       [120.59258522],\n",
       "       [119.47883658],\n",
       "       [119.73585549],\n",
       "       [119.99287441],\n",
       "       [119.99287441],\n",
       "       [121.10662306],\n",
       "       [120.76393117],\n",
       "       [120.07854739],\n",
       "       [120.3355663 ],\n",
       "       [120.93527711],\n",
       "       [119.99287441],\n",
       "       [119.56450955],\n",
       "       [120.07854739],\n",
       "       [119.90720144],\n",
       "       [119.73585549]])"
      ]
     },
     "execution_count": 25,
     "metadata": {},
     "output_type": "execute_result"
    }
   ],
   "source": [
    "regressor.predict(X_test)\n",
    "# This returns a vector containg the predicted data"
   ]
  },
  {
   "cell_type": "code",
   "execution_count": 26,
   "metadata": {
    "id": "UnAA_O4AVR_W"
   },
   "outputs": [],
   "source": [
    "y_pred = regressor.predict(X_test)"
   ]
  },
  {
   "cell_type": "markdown",
   "metadata": {
    "id": "r6W-MYaIVVqi"
   },
   "source": [
    "## Visualising the Training set results"
   ]
  },
  {
   "cell_type": "code",
   "execution_count": 27,
   "metadata": {
    "colab": {
     "base_uri": "https://localhost:8080/",
     "height": 280
    },
    "id": "__bDwl9lVXnn",
    "outputId": "ee09e3f7-98d5-446f-a31e-2ad72806ccf7"
   },
   "outputs": [
    {
     "data": {
      "image/png": "[encoded data removed]",
      "text/plain": [
       "<Figure size 432x288 with 1 Axes>"
      ]
     },
     "metadata": {
      "needs_background": "light"
     },
     "output_type": "display_data"
    }
   ],
   "source": [
    "# scatter method allows us to put points/coordinates\n",
    "plt.xlabel(\"Age (Mother's Age)\")\n",
    "plt.ylabel(\"btw (Baby Weight)\")\n",
    "plt.scatter(X_train, y_train, color=\"red\") # Real vlaues\n",
    "plt.show()"
   ]
  },
  {
   "cell_type": "code",
   "execution_count": 28,
   "metadata": {
    "colab": {
     "base_uri": "https://localhost:8080/",
     "height": 295
    },
    "id": "ZfIuLfnBVx-7",
    "outputId": "1bc995a0-6d02-4dcd-ee98-f312c5403ba2"
   },
   "outputs": [
    {
     "data": {
      "image/png": "[encoded data removed]",
      "text/plain": [
       "<Figure size 432x288 with 1 Axes>"
      ]
     },
     "metadata": {
      "needs_background": "light"
     },
     "output_type": "display_data"
    }
   ],
   "source": [
    "plt.title(\"Baby Weight vs Mother's Age(Training Set)\")\n",
    "plt.ylabel(\"btw (Baby Weight)\")\n",
    "plt.xlabel(\"Age (Mother's Age)\")\n",
    "plt.scatter(X_train, y_train, color=\"red\")\n",
    "plt.plot(X_train, regressor.predict(X_train))\n",
    "# show is used to display the graphic in the output\n",
    "plt.show()\n",
    "\n",
    "# Red dots are real values of salary (x_train, y_train)\n",
    "# Blue line is the best fit line on training X_train and predicting X_train on itself"
   ]
  },
  {
   "cell_type": "markdown",
   "metadata": {
    "id": "eeKpEBFVWBAi"
   },
   "source": [
    "## Visualising the Test set results"
   ]
  },
  {
   "cell_type": "code",
   "execution_count": 29,
   "metadata": {
    "colab": {
     "base_uri": "https://localhost:8080/",
     "height": 295
    },
    "id": "VCB-B6Q2WEOL",
    "outputId": "48a391f2-9c3e-456e-96ed-78cbbe225d04"
   },
   "outputs": [
    {
     "data": {
      "image/png": "[encoded data removed]",
      "text/plain": [
       "<Figure size 432x288 with 1 Axes>"
      ]
     },
     "metadata": {
      "needs_background": "light"
     },
     "output_type": "display_data"
    }
   ],
   "source": [
    "plt.title(\"Baby Weight vs Mother's Age (Test Set)\")\n",
    "plt.ylabel(\"btw (Baby Weight)\")\n",
    "plt.xlabel(\"Weight (Mother's Weight)\")\n",
    "plt.scatter(X_test, y_test, color=\"red\")\n",
    "\n",
    "# Predicted salries of test set will on the same rgression line as the predicted salaries on the training set\n",
    "plt.plot(X_train, regressor.predict(X_train), color=\"blue\")\n",
    "plt.show()\n",
    "\n",
    "# Red are new observations(test set)\n",
    "# Blue is our best fit line after traning on the available train dataset"
   ]
  },
  {
   "cell_type": "markdown",
   "metadata": {
    "id": "K2KjLuJAWUZn"
   },
   "source": [
    "## Getting the final linear regression equation with the values of the coefficients"
   ]
  },
  {
   "cell_type": "markdown",
   "metadata": {
    "id": "mntNtbBAvhdW"
   },
   "source": [
    "# Getting slope and intercept"
   ]
  },
  {
   "cell_type": "code",
   "execution_count": 30,
   "metadata": {
    "colab": {
     "base_uri": "https://localhost:8080/"
    },
    "id": "vIirBKBwWWwl",
    "outputId": "7099c5f8-5cd7-4fab-b571-c2cf4ee1048f"
   },
   "outputs": [
    {
     "name": "stdout",
     "output_type": "stream",
     "text": [
      "[[0.08567297]]\n",
      "[117.76537712]\n"
     ]
    }
   ],
   "source": [
    "print(regressor.coef_)\n",
    "print(regressor.intercept_)"
   ]
  },
  {
   "cell_type": "markdown",
   "metadata": {
    "id": "n30Ocui3WaMr"
   },
   "source": [
    "Therefore, the equation of our simple linear regression model is:\n",
    "\n",
    "$$\\textrm{Baby_weight} = 0.08567297 \\times \\textrm{Mother_age} + 117.76537712$$\n",
    "\n",
    "**Important Note:** To get these coefficients we called the \"coef_\" and \"intercept_\" attributes from our regressor object. Attributes in Python are different than methods and usually return a simple value or an array of values."
   ]
  },
  {
   "cell_type": "markdown",
   "metadata": {
    "id": "fvZ-GSOcXLuO"
   },
   "source": [
    "#######################################################################################################"
   ]
  },
  {
   "cell_type": "markdown",
   "metadata": {
    "id": "2DG8DqiGXKmO"
   },
   "source": [
    "# ***Training the Linear Regression model for mother’s weight and baby’s birth weight (bwt)***"
   ]
  },
  {
   "cell_type": "markdown",
   "metadata": {
    "id": "HKx9Qqm7dlqo"
   },
   "source": [
    "Testing the association of mother’s Age (age) and Baby Weight (bwt) using the correlation test and linear regression. "
   ]
  },
  {
   "cell_type": "code",
   "execution_count": 31,
   "metadata": {
    "colab": {
     "base_uri": "https://localhost:8080/"
    },
    "id": "alcJ2z7zdlqp",
    "outputId": "8aec9bc9-e62d-4a57-f8a3-0d4742748b59"
   },
   "outputs": [
    {
     "name": "stdout",
     "output_type": "stream",
     "text": [
      "Correlation :  0.1559232701870693\n"
     ]
    }
   ],
   "source": [
    "print(\"Correlation : \", df['weight'].corr(df['bwt']))"
   ]
  },
  {
   "cell_type": "code",
   "execution_count": 32,
   "metadata": {
    "colab": {
     "base_uri": "https://localhost:8080/",
     "height": 203
    },
    "id": "pZUd_7UIXvrT",
    "outputId": "d2216c57-a1f0-46f1-f2ba-088f40fc86a8"
   },
   "outputs": [
    {
     "data": {
      "text/html": [
       "<div>\n",
       "<style scoped>\n",
       "    .dataframe tbody tr th:only-of-type {\n",
       "        vertical-align: middle;\n",
       "    }\n",
       "\n",
       "    .dataframe tbody tr th {\n",
       "        vertical-align: top;\n",
       "    }\n",
       "\n",
       "    .dataframe thead th {\n",
       "        text-align: right;\n",
       "    }\n",
       "</style>\n",
       "<table border=\"1\" class=\"dataframe\">\n",
       "  <thead>\n",
       "    <tr style=\"text-align: right;\">\n",
       "      <th></th>\n",
       "      <th>bwt</th>\n",
       "      <th>gestation</th>\n",
       "      <th>parity</th>\n",
       "      <th>age</th>\n",
       "      <th>height</th>\n",
       "      <th>weight</th>\n",
       "      <th>smoke</th>\n",
       "    </tr>\n",
       "  </thead>\n",
       "  <tbody>\n",
       "    <tr>\n",
       "      <td>0</td>\n",
       "      <td>120</td>\n",
       "      <td>284</td>\n",
       "      <td>0</td>\n",
       "      <td>27</td>\n",
       "      <td>62</td>\n",
       "      <td>100</td>\n",
       "      <td>0</td>\n",
       "    </tr>\n",
       "    <tr>\n",
       "      <td>1</td>\n",
       "      <td>113</td>\n",
       "      <td>282</td>\n",
       "      <td>0</td>\n",
       "      <td>33</td>\n",
       "      <td>64</td>\n",
       "      <td>135</td>\n",
       "      <td>0</td>\n",
       "    </tr>\n",
       "    <tr>\n",
       "      <td>2</td>\n",
       "      <td>128</td>\n",
       "      <td>279</td>\n",
       "      <td>0</td>\n",
       "      <td>28</td>\n",
       "      <td>64</td>\n",
       "      <td>115</td>\n",
       "      <td>1</td>\n",
       "    </tr>\n",
       "    <tr>\n",
       "      <td>3</td>\n",
       "      <td>108</td>\n",
       "      <td>282</td>\n",
       "      <td>0</td>\n",
       "      <td>23</td>\n",
       "      <td>67</td>\n",
       "      <td>125</td>\n",
       "      <td>1</td>\n",
       "    </tr>\n",
       "    <tr>\n",
       "      <td>4</td>\n",
       "      <td>136</td>\n",
       "      <td>286</td>\n",
       "      <td>0</td>\n",
       "      <td>25</td>\n",
       "      <td>62</td>\n",
       "      <td>93</td>\n",
       "      <td>0</td>\n",
       "    </tr>\n",
       "  </tbody>\n",
       "</table>\n",
       "</div>"
      ],
      "text/plain": [
       "   bwt  gestation  parity  age  height  weight  smoke\n",
       "0  120        284       0   27      62     100      0\n",
       "1  113        282       0   33      64     135      0\n",
       "2  128        279       0   28      64     115      1\n",
       "3  108        282       0   23      67     125      1\n",
       "4  136        286       0   25      62      93      0"
      ]
     },
     "execution_count": 32,
     "metadata": {},
     "output_type": "execute_result"
    }
   ],
   "source": [
    "df.head()"
   ]
  },
  {
   "cell_type": "code",
   "execution_count": 33,
   "metadata": {
    "id": "GR6gKnm6Xvra"
   },
   "outputs": [],
   "source": [
    "X = df.iloc[:,5:6]\n",
    "y = df.iloc[:,0:1]"
   ]
  },
  {
   "cell_type": "code",
   "execution_count": 34,
   "metadata": {
    "colab": {
     "base_uri": "https://localhost:8080/"
    },
    "id": "3viaU9MFXvra",
    "outputId": "0546ae03-e0fe-4b02-a2ae-f5e4a6edbd03"
   },
   "outputs": [
    {
     "name": "stdout",
     "output_type": "stream",
     "text": [
      "      weight\n",
      "0        100\n",
      "1        135\n",
      "2        115\n",
      "3        125\n",
      "4         93\n",
      "...      ...\n",
      "1169     100\n",
      "1170     120\n",
      "1171     150\n",
      "1172     110\n",
      "1173     129\n",
      "\n",
      "[1174 rows x 1 columns]\n"
     ]
    }
   ],
   "source": [
    "print(X)"
   ]
  },
  {
   "cell_type": "code",
   "execution_count": 35,
   "metadata": {
    "colab": {
     "base_uri": "https://localhost:8080/"
    },
    "id": "2cQQjZgyXvra",
    "outputId": "2c273bc4-efb2-43b9-fe90-5ffa1b0d4eab"
   },
   "outputs": [
    {
     "name": "stdout",
     "output_type": "stream",
     "text": [
      "      bwt\n",
      "0     120\n",
      "1     113\n",
      "2     128\n",
      "3     108\n",
      "4     136\n",
      "...   ...\n",
      "1169  113\n",
      "1170  128\n",
      "1171  130\n",
      "1172  125\n",
      "1173  117\n",
      "\n",
      "[1174 rows x 1 columns]\n"
     ]
    }
   ],
   "source": [
    "print(y)"
   ]
  },
  {
   "cell_type": "markdown",
   "metadata": {
    "id": "tLe78EulXvra"
   },
   "source": [
    "Splitting the dataset"
   ]
  },
  {
   "cell_type": "code",
   "execution_count": 36,
   "metadata": {
    "id": "tKEo2HtFXvrb"
   },
   "outputs": [],
   "source": [
    "from sklearn.model_selection import train_test_split\n",
    "\n",
    "X_train, X_test, y_train, y_test = train_test_split(X, y, test_size=0.2, random_state=0)"
   ]
  },
  {
   "cell_type": "code",
   "execution_count": 37,
   "metadata": {
    "id": "hmZultSfXvrb"
   },
   "outputs": [],
   "source": [
    "from sklearn.linear_model import LinearRegression\n",
    "\n",
    "regressor = LinearRegression()\n",
    "# Upto here was the builing part, now we have to train the model after we have built it"
   ]
  },
  {
   "cell_type": "code",
   "execution_count": 38,
   "metadata": {
    "colab": {
     "base_uri": "https://localhost:8080/"
    },
    "id": "F2LTiZFeXvrb",
    "outputId": "3d67f572-b183-4fe0-d5e7-c573c22cd4bc"
   },
   "outputs": [
    {
     "data": {
      "text/plain": [
       "LinearRegression(copy_X=True, fit_intercept=True, n_jobs=None, normalize=False)"
      ]
     },
     "execution_count": 38,
     "metadata": {},
     "output_type": "execute_result"
    }
   ],
   "source": [
    "# To connect our model we use the fit method\n",
    "\n",
    "# X_train contains the features of the dataset\n",
    "# y_train contins the dependant varaibles \n",
    "regressor.fit(X_train, y_train)"
   ]
  },
  {
   "cell_type": "markdown",
   "metadata": {
    "id": "ouh9mwvdXvrb"
   },
   "source": [
    "# Predicting test results"
   ]
  },
  {
   "cell_type": "code",
   "execution_count": 39,
   "metadata": {
    "colab": {
     "base_uri": "https://localhost:8080/"
    },
    "id": "FlH4IBivXvrb",
    "outputId": "8e7e3d89-3350-4875-dc2b-301b5a77e58c"
   },
   "outputs": [
    {
     "data": {
      "text/plain": [
       "array([[117.94326462],\n",
       "       [120.91631601],\n",
       "       [120.91631601],\n",
       "       [118.71884324],\n",
       "       [117.94326462],\n",
       "       [119.75294808],\n",
       "       [119.88221118],\n",
       "       [116.77989668],\n",
       "       [118.97736945],\n",
       "       [126.73315569],\n",
       "       [115.09947633],\n",
       "       [117.03842289],\n",
       "       [118.97736945],\n",
       "       [116.65063358],\n",
       "       [114.71168702],\n",
       "       [119.23589566],\n",
       "       [122.85526257],\n",
       "       [120.5285267 ],\n",
       "       [128.15504984],\n",
       "       [121.04557912],\n",
       "       [120.27000049],\n",
       "       [122.85526257],\n",
       "       [126.47462948],\n",
       "       [116.39210737],\n",
       "       [118.20179083],\n",
       "       [122.46747326],\n",
       "       [123.50157809],\n",
       "       [116.13358116],\n",
       "       [120.78705291],\n",
       "       [119.75294808],\n",
       "       [119.88221118],\n",
       "       [124.01863051],\n",
       "       [120.27000049],\n",
       "       [121.30410532],\n",
       "       [120.27000049],\n",
       "       [117.2969491 ],\n",
       "       [120.27000049],\n",
       "       [117.2969491 ],\n",
       "       [120.91631601],\n",
       "       [120.27000049],\n",
       "       [122.46747326],\n",
       "       [120.5285267 ],\n",
       "       [122.20894705],\n",
       "       [120.5285267 ],\n",
       "       [118.97736945],\n",
       "       [118.33105393],\n",
       "       [124.14789361],\n",
       "       [119.49442187],\n",
       "       [119.88221118],\n",
       "       [120.27000049],\n",
       "       [120.27000049],\n",
       "       [118.71884324],\n",
       "       [124.79420913],\n",
       "       [119.88221118],\n",
       "       [118.33105393],\n",
       "       [118.97736945],\n",
       "       [116.65063358],\n",
       "       [118.20179083],\n",
       "       [119.49442187],\n",
       "       [120.01147428],\n",
       "       [116.39210737],\n",
       "       [116.00431806],\n",
       "       [118.71884324],\n",
       "       [117.81400152],\n",
       "       [121.56263153],\n",
       "       [124.79420913],\n",
       "       [116.26284427],\n",
       "       [118.07252772],\n",
       "       [122.20894705],\n",
       "       [122.33821016],\n",
       "       [120.27000049],\n",
       "       [118.33105393],\n",
       "       [123.50157809],\n",
       "       [118.71884324],\n",
       "       [121.56263153],\n",
       "       [120.27000049],\n",
       "       [120.5285267 ],\n",
       "       [120.78705291],\n",
       "       [120.27000049],\n",
       "       [124.79420913],\n",
       "       [117.03842289],\n",
       "       [120.91631601],\n",
       "       [121.43336843],\n",
       "       [117.4262122 ],\n",
       "       [120.6577898 ],\n",
       "       [119.75294808],\n",
       "       [117.2969491 ],\n",
       "       [120.27000049],\n",
       "       [119.49442187],\n",
       "       [117.4262122 ],\n",
       "       [117.68473841],\n",
       "       [117.03842289],\n",
       "       [120.91631601],\n",
       "       [122.59673636],\n",
       "       [121.56263153],\n",
       "       [117.03842289],\n",
       "       [120.27000049],\n",
       "       [122.59673636],\n",
       "       [119.75294808],\n",
       "       [122.46747326],\n",
       "       [118.97736945],\n",
       "       [117.68473841],\n",
       "       [117.94326462],\n",
       "       [119.49442187],\n",
       "       [121.04557912],\n",
       "       [116.39210737],\n",
       "       [118.46031704],\n",
       "       [122.20894705],\n",
       "       [123.50157809],\n",
       "       [121.82115774],\n",
       "       [122.20894705],\n",
       "       [121.56263153],\n",
       "       [122.85526257],\n",
       "       [118.97736945],\n",
       "       [121.17484222],\n",
       "       [120.27000049],\n",
       "       [119.62368497],\n",
       "       [117.68473841],\n",
       "       [119.88221118],\n",
       "       [119.88221118],\n",
       "       [119.88221118],\n",
       "       [126.08684017],\n",
       "       [116.52137048],\n",
       "       [122.46747326],\n",
       "       [117.94326462],\n",
       "       [118.20179083],\n",
       "       [118.71884324],\n",
       "       [119.88221118],\n",
       "       [118.33105393],\n",
       "       [120.01147428],\n",
       "       [124.01863051],\n",
       "       [116.90915979],\n",
       "       [118.97736945],\n",
       "       [129.31841777],\n",
       "       [118.33105393],\n",
       "       [119.49442187],\n",
       "       [116.77989668],\n",
       "       [119.49442187],\n",
       "       [116.13358116],\n",
       "       [120.78705291],\n",
       "       [119.36515876],\n",
       "       [121.17484222],\n",
       "       [119.75294808],\n",
       "       [118.33105393],\n",
       "       [117.03842289],\n",
       "       [118.97736945],\n",
       "       [119.23589566],\n",
       "       [119.49442187],\n",
       "       [117.81400152],\n",
       "       [126.73315569],\n",
       "       [120.91631601],\n",
       "       [119.49442187],\n",
       "       [120.01147428],\n",
       "       [117.2969491 ],\n",
       "       [120.91631601],\n",
       "       [118.33105393],\n",
       "       [119.62368497],\n",
       "       [120.27000049],\n",
       "       [122.20894705],\n",
       "       [120.3992636 ],\n",
       "       [120.27000049],\n",
       "       [119.10663256],\n",
       "       [118.71884324],\n",
       "       [118.33105393],\n",
       "       [118.46031704],\n",
       "       [119.62368497],\n",
       "       [118.97736945],\n",
       "       [122.20894705],\n",
       "       [122.85526257],\n",
       "       [116.26284427],\n",
       "       [120.5285267 ],\n",
       "       [120.27000049],\n",
       "       [118.58958014],\n",
       "       [120.27000049],\n",
       "       [119.62368497],\n",
       "       [117.4262122 ],\n",
       "       [119.62368497],\n",
       "       [122.20894705],\n",
       "       [120.27000049],\n",
       "       [118.58958014],\n",
       "       [117.68473841],\n",
       "       [119.62368497],\n",
       "       [117.55547531],\n",
       "       [122.20894705],\n",
       "       [120.14073739],\n",
       "       [118.71884324],\n",
       "       [115.87505496],\n",
       "       [118.58958014],\n",
       "       [121.56263153],\n",
       "       [126.73315569],\n",
       "       [120.27000049],\n",
       "       [119.49442187],\n",
       "       [121.17484222],\n",
       "       [119.75294808],\n",
       "       [119.23589566],\n",
       "       [117.68473841],\n",
       "       [118.46031704],\n",
       "       [118.71884324],\n",
       "       [118.58958014],\n",
       "       [119.62368497],\n",
       "       [121.30410532],\n",
       "       [122.20894705],\n",
       "       [118.84810635],\n",
       "       [119.62368497],\n",
       "       [119.23589566],\n",
       "       [125.95757707],\n",
       "       [122.59673636],\n",
       "       [120.78705291],\n",
       "       [121.04557912],\n",
       "       [118.46031704],\n",
       "       [120.91631601],\n",
       "       [117.68473841],\n",
       "       [119.62368497],\n",
       "       [120.27000049],\n",
       "       [118.07252772],\n",
       "       [116.13358116],\n",
       "       [120.01147428],\n",
       "       [121.17484222],\n",
       "       [119.36515876],\n",
       "       [119.10663256],\n",
       "       [123.50157809],\n",
       "       [124.79420913],\n",
       "       [122.07968395],\n",
       "       [117.68473841],\n",
       "       [118.33105393],\n",
       "       [118.07252772],\n",
       "       [119.23589566],\n",
       "       [117.4262122 ],\n",
       "       [120.27000049],\n",
       "       [117.94326462],\n",
       "       [122.46747326],\n",
       "       [122.20894705],\n",
       "       [119.36515876],\n",
       "       [119.88221118],\n",
       "       [117.68473841]])"
      ]
     },
     "execution_count": 39,
     "metadata": {},
     "output_type": "execute_result"
    }
   ],
   "source": [
    "regressor.predict(X_test)\n",
    "# This returns a vector containg the predicted data"
   ]
  },
  {
   "cell_type": "code",
   "execution_count": 40,
   "metadata": {
    "id": "-_upSc7jXvrb"
   },
   "outputs": [],
   "source": [
    "y_pred = regressor.predict(X_test)"
   ]
  },
  {
   "cell_type": "markdown",
   "metadata": {
    "id": "KjP3wEFbXvrb"
   },
   "source": [
    "## Visualising the Training set results"
   ]
  },
  {
   "cell_type": "code",
   "execution_count": 41,
   "metadata": {
    "colab": {
     "base_uri": "https://localhost:8080/",
     "height": 280
    },
    "id": "L6R-8EXDXvrb",
    "outputId": "969e1f54-d4d2-4296-e7c3-fa5143b3e917"
   },
   "outputs": [
    {
     "data": {
      "image/png": "[encoded data removed]",
      "text/plain": [
       "<Figure size 432x288 with 1 Axes>"
      ]
     },
     "metadata": {
      "needs_background": "light"
     },
     "output_type": "display_data"
    }
   ],
   "source": [
    "# scatter method allows us to put points/coordinates\n",
    "plt.ylabel(\"btw (Baby Weight)\")\n",
    "plt.xlabel(\"Weight (Mother's Weight)\")\n",
    "plt.scatter(X_train, y_train, color=\"red\") # Real vlaues\n",
    "plt.show()"
   ]
  },
  {
   "cell_type": "code",
   "execution_count": 42,
   "metadata": {
    "colab": {
     "base_uri": "https://localhost:8080/",
     "height": 295
    },
    "id": "VKx6H4djXvrc",
    "outputId": "8af56cbe-e5fc-4871-ac4c-43e40052b03a"
   },
   "outputs": [
    {
     "data": {
      "image/png": "[encoded data removed]",
      "text/plain": [
       "<Figure size 432x288 with 1 Axes>"
      ]
     },
     "metadata": {
      "needs_background": "light"
     },
     "output_type": "display_data"
    }
   ],
   "source": [
    "plt.title(\"Baby Weight vs Mother's Weight(Training Set)\")\n",
    "plt.ylabel(\"btw (Baby Weight)\")\n",
    "plt.xlabel(\"Weight (Mother's Weight)\")\n",
    "plt.scatter(X_train, y_train, color=\"red\")\n",
    "plt.plot(X_train, regressor.predict(X_train))\n",
    "# show is used to display the graphic in the output\n",
    "plt.show()\n",
    "\n",
    "# Red dots are real values of salary (x_train, y_train)\n",
    "# Blue line is the best fit line on training X_train and predicting X_train on itself"
   ]
  },
  {
   "cell_type": "markdown",
   "metadata": {
    "id": "HFYXOXeuXvrd"
   },
   "source": [
    "## Visualising the Test set results"
   ]
  },
  {
   "cell_type": "code",
   "execution_count": 43,
   "metadata": {
    "colab": {
     "base_uri": "https://localhost:8080/",
     "height": 295
    },
    "id": "oA89u7eJXvrd",
    "outputId": "0b50a910-6390-4f08-86fd-329236063a3b"
   },
   "outputs": [
    {
     "data": {
      "image/png": "[encoded data removed]",
      "text/plain": [
       "<Figure size 432x288 with 1 Axes>"
      ]
     },
     "metadata": {
      "needs_background": "light"
     },
     "output_type": "display_data"
    }
   ],
   "source": [
    "plt.title(\"Baby Weight vs Mother's Weight(Test Set)\")\n",
    "plt.ylabel(\"btw (Baby Weight)\")\n",
    "plt.xlabel(\"Weight (Mother's Weight)\")\n",
    "plt.scatter(X_test, y_test, color=\"red\")\n",
    "\n",
    "# Predicted salries of test set will on the same rgression line as the predicted salaries on the training set\n",
    "plt.plot(X_train, regressor.predict(X_train), color=\"blue\")\n",
    "plt.show()\n",
    "\n",
    "# Red are new observations(test set)\n",
    "# Blue is our best fit line after traning on the available train dataset"
   ]
  },
  {
   "cell_type": "markdown",
   "metadata": {
    "id": "ZmbRfoUkXvrd"
   },
   "source": [
    "## Getting the final linear regression equation with the values of the coefficients"
   ]
  },
  {
   "cell_type": "markdown",
   "metadata": {
    "id": "LqPWScOtXvrd"
   },
   "source": [
    "# Getting slope and intercept"
   ]
  },
  {
   "cell_type": "code",
   "execution_count": 44,
   "metadata": {
    "colab": {
     "base_uri": "https://localhost:8080/"
    },
    "id": "YLvtI_HDXvrd",
    "outputId": "453d3584-255e-40db-b7ba-6128d2b48f80"
   },
   "outputs": [
    {
     "name": "stdout",
     "output_type": "stream",
     "text": [
      "[[0.1292631]]\n",
      "[103.46579697]\n"
     ]
    }
   ],
   "source": [
    "print(regressor.coef_)\n",
    "print(regressor.intercept_)"
   ]
  },
  {
   "cell_type": "markdown",
   "metadata": {
    "id": "9rkOioC4Xvrd"
   },
   "source": [
    "Therefore, the equation of our simple linear regression model is:\n",
    "\n",
    "$$\\textrm{Baby_weight} = 0.17099362 \\times \\textrm{Mother_weight} + 108.20571737$$\n",
    "\n",
    "**Important Note:** To get these coefficients we called the \"coef_\" and \"intercept_\" attributes from our regressor object. Attributes in Python are different than methods and usually return a simple value or an array of values."
   ]
  },
  {
   "cell_type": "markdown",
   "metadata": {
    "id": "bc166d66"
   },
   "source": [
    "# **Inference:**"
   ]
  },
  {
   "cell_type": "markdown",
   "metadata": {
    "id": "9b2c5b7f"
   },
   "source": [
    "1. For both the set of variables (mother's age, baby's birth weight) and (mother's weight, baby's birth weight), the regression model estimated almost no relation between the variables ie. both variables are not dependant.\n",
    "2. The correlation value for both the set of variables were found to be very low which supports the above conclusion."
   ]
  },
  {
   "cell_type": "code",
   "execution_count": null,
   "metadata": {},
   "outputs": [],
   "source": []
  }
 ],
 "metadata": {
  "colab": {
   "collapsed_sections": [],
   "name": "33323_Assignment_3.ipynb",
   "provenance": []
  },
  "kernelspec": {
   "display_name": "Python 3",
   "language": "python",
   "name": "python3"
  },
  "language_info": {
   "codemirror_mode": {
    "name": "ipython",
    "version": 3
   },
   "file_extension": ".py",
   "mimetype": "text/x-python",
   "name": "python",
   "nbconvert_exporter": "python",
   "pygments_lexer": "ipython3",
   "version": "3.7.4"
  }
 },
 "nbformat": 4,
 "nbformat_minor": 5
}
