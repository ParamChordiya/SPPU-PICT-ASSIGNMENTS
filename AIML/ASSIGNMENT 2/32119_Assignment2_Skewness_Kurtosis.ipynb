{
 "cells": [
  {
   "cell_type": "markdown",
   "metadata": {},
   "source": [
    "# Name: Param Chordiya\n",
    "# Roll No: 32119\n",
    "# Div: TE-5\n",
    "# Assignment 2: Skewness and Kurtosis"
   ]
  },
  {
   "cell_type": "code",
   "execution_count": 4,
   "metadata": {},
   "outputs": [],
   "source": [
    "import pandas as pd\n",
    "import numpy as np\n",
    "import random"
   ]
  },
  {
   "cell_type": "markdown",
   "metadata": {},
   "source": [
    "# 1) Creating DataFrame"
   ]
  },
  {
   "cell_type": "code",
   "execution_count": 5,
   "metadata": {},
   "outputs": [
    {
     "data": {
      "text/html": [
       "<div>\n",
       "<style scoped>\n",
       "    .dataframe tbody tr th:only-of-type {\n",
       "        vertical-align: middle;\n",
       "    }\n",
       "\n",
       "    .dataframe tbody tr th {\n",
       "        vertical-align: top;\n",
       "    }\n",
       "\n",
       "    .dataframe thead th {\n",
       "        text-align: right;\n",
       "    }\n",
       "</style>\n",
       "<table border=\"1\" class=\"dataframe\">\n",
       "  <thead>\n",
       "    <tr style=\"text-align: right;\">\n",
       "      <th></th>\n",
       "      <th>Student Roll No</th>\n",
       "      <th>Physics Marks</th>\n",
       "      <th>Chemistry Marks</th>\n",
       "      <th>Maths Marks</th>\n",
       "      <th>Total Marks</th>\n",
       "    </tr>\n",
       "  </thead>\n",
       "  <tbody>\n",
       "    <tr>\n",
       "      <td>0</td>\n",
       "      <td>1</td>\n",
       "      <td>50</td>\n",
       "      <td>64</td>\n",
       "      <td>34</td>\n",
       "      <td>148</td>\n",
       "    </tr>\n",
       "    <tr>\n",
       "      <td>1</td>\n",
       "      <td>2</td>\n",
       "      <td>100</td>\n",
       "      <td>78</td>\n",
       "      <td>35</td>\n",
       "      <td>213</td>\n",
       "    </tr>\n",
       "    <tr>\n",
       "      <td>2</td>\n",
       "      <td>3</td>\n",
       "      <td>53</td>\n",
       "      <td>82</td>\n",
       "      <td>30</td>\n",
       "      <td>165</td>\n",
       "    </tr>\n",
       "    <tr>\n",
       "      <td>3</td>\n",
       "      <td>4</td>\n",
       "      <td>30</td>\n",
       "      <td>67</td>\n",
       "      <td>65</td>\n",
       "      <td>162</td>\n",
       "    </tr>\n",
       "    <tr>\n",
       "      <td>4</td>\n",
       "      <td>5</td>\n",
       "      <td>80</td>\n",
       "      <td>90</td>\n",
       "      <td>87</td>\n",
       "      <td>257</td>\n",
       "    </tr>\n",
       "    <tr>\n",
       "      <td>...</td>\n",
       "      <td>...</td>\n",
       "      <td>...</td>\n",
       "      <td>...</td>\n",
       "      <td>...</td>\n",
       "      <td>...</td>\n",
       "    </tr>\n",
       "    <tr>\n",
       "      <td>95</td>\n",
       "      <td>96</td>\n",
       "      <td>42</td>\n",
       "      <td>99</td>\n",
       "      <td>95</td>\n",
       "      <td>236</td>\n",
       "    </tr>\n",
       "    <tr>\n",
       "      <td>96</td>\n",
       "      <td>97</td>\n",
       "      <td>88</td>\n",
       "      <td>83</td>\n",
       "      <td>73</td>\n",
       "      <td>244</td>\n",
       "    </tr>\n",
       "    <tr>\n",
       "      <td>97</td>\n",
       "      <td>98</td>\n",
       "      <td>59</td>\n",
       "      <td>61</td>\n",
       "      <td>61</td>\n",
       "      <td>181</td>\n",
       "    </tr>\n",
       "    <tr>\n",
       "      <td>98</td>\n",
       "      <td>99</td>\n",
       "      <td>58</td>\n",
       "      <td>92</td>\n",
       "      <td>73</td>\n",
       "      <td>223</td>\n",
       "    </tr>\n",
       "    <tr>\n",
       "      <td>99</td>\n",
       "      <td>100</td>\n",
       "      <td>30</td>\n",
       "      <td>80</td>\n",
       "      <td>49</td>\n",
       "      <td>159</td>\n",
       "    </tr>\n",
       "  </tbody>\n",
       "</table>\n",
       "<p>100 rows × 5 columns</p>\n",
       "</div>"
      ],
      "text/plain": [
       "    Student Roll No  Physics Marks  Chemistry Marks  Maths Marks  Total Marks\n",
       "0                 1             50               64           34          148\n",
       "1                 2            100               78           35          213\n",
       "2                 3             53               82           30          165\n",
       "3                 4             30               67           65          162\n",
       "4                 5             80               90           87          257\n",
       "..              ...            ...              ...          ...          ...\n",
       "95               96             42               99           95          236\n",
       "96               97             88               83           73          244\n",
       "97               98             59               61           61          181\n",
       "98               99             58               92           73          223\n",
       "99              100             30               80           49          159\n",
       "\n",
       "[100 rows x 5 columns]"
      ]
     },
     "execution_count": 5,
     "metadata": {},
     "output_type": "execute_result"
    }
   ],
   "source": [
    "# Commenting random library after using as it changes values of entries each time it is run\n",
    "# import random\n",
    "\n",
    "# Creating a dataframe\n",
    "df = pd.DataFrame()\n",
    "\n",
    "# Creating column having student roll numbers\n",
    "df['Student Roll No'] = [i for i in range(1,101)]\n",
    "\n",
    "# Creating columns containing different subject marks for each student\n",
    "df['Physics Marks'] = [random.randint(30,100) for i in range(1,101)]\n",
    "df['Chemistry Marks'] = [random.randint(50,100) for i in range(1,101)]\n",
    "df['Maths Marks'] = [random.randint(20,100) for i in range(1,101)]\n",
    "df['Total Marks'] = df['Physics Marks'] + df['Chemistry Marks'] + df['Maths Marks']\n",
    "df"
   ]
  },
  {
   "cell_type": "markdown",
   "metadata": {},
   "source": [
    "# 2) Calculating Mean and Standard Deviation "
   ]
  },
  {
   "cell_type": "code",
   "execution_count": 6,
   "metadata": {},
   "outputs": [
    {
     "name": "stdout",
     "output_type": "stream",
     "text": [
      "The Mean of the marks obtained by the students is:  66.17\n",
      "The Standard Deviation of the marks obtained by the students is:  20.566018088098627\n"
     ]
    }
   ],
   "source": [
    "# Calculating central tendencies of data\n",
    "mean = np.mean(df['Physics Marks'])\n",
    "std_dev = np.std(df['Physics Marks'])\n",
    "\n",
    "print(\"The Mean of the marks obtained by the students is: \", mean)\n",
    "print(\"The Standard Deviation of the marks obtained by the students is: \", std_dev)"
   ]
  },
  {
   "cell_type": "code",
   "execution_count": 7,
   "metadata": {},
   "outputs": [],
   "source": [
    "# Since we need to use the value of 'e' we import math library\n",
    "import math"
   ]
  },
  {
   "cell_type": "markdown",
   "metadata": {},
   "source": [
    "# 3) Calculating Probability Density Function"
   ]
  },
  {
   "cell_type": "code",
   "execution_count": 8,
   "metadata": {},
   "outputs": [
    {
     "data": {
      "text/plain": [
       "[0.01424, 0.005014, 0.015802, 0.004131, 0.015473]"
      ]
     },
     "execution_count": 8,
     "metadata": {},
     "output_type": "execute_result"
    }
   ],
   "source": [
    "# Calculating manually\n",
    "\n",
    "numerator = math.e ** (-0.5*(((df['Physics Marks']-mean)/std_dev)**2))\n",
    "denominator = (std_dev*((2*math.pi)**0.5))\n",
    "\n",
    "Normal_dist = numerator/denominator\n",
    "Normal_dist_rounded = [round(i, 6) for i in Normal_dist]\n",
    "Normal_dist_rounded[:5]"
   ]
  },
  {
   "cell_type": "code",
   "execution_count": 9,
   "metadata": {},
   "outputs": [
    {
     "data": {
      "text/plain": [
       "[0.01424, 0.005014, 0.015802, 0.004131, 0.015473]"
      ]
     },
     "execution_count": 9,
     "metadata": {},
     "output_type": "execute_result"
    }
   ],
   "source": [
    "# Calculating using inbuilt functions\n",
    "\n",
    "from scipy.stats import norm\n",
    "\n",
    "Normal_dist1 = norm.pdf(df['Physics Marks'], mean, std_dev)\n",
    "Normal_dist1_rounded = [round(i, 6) for i in Normal_dist1]\n",
    "Normal_dist1_rounded[:5]"
   ]
  },
  {
   "cell_type": "markdown",
   "metadata": {},
   "source": [
    "# 4) Checking if calculated values and values using in-built functions match"
   ]
  },
  {
   "cell_type": "code",
   "execution_count": 10,
   "metadata": {},
   "outputs": [
    {
     "data": {
      "text/plain": [
       "0"
      ]
     },
     "execution_count": 10,
     "metadata": {},
     "output_type": "execute_result"
    }
   ],
   "source": [
    "# Checking if values match between both the arrays\n",
    "\n",
    "# This list comprehension returns False if values do not match at any index\n",
    "bool_check = [True if Normal_dist_rounded[i] == Normal_dist1_rounded[i] else False for i in range(len(Normal_dist))]\n",
    "\n",
    "# The count function will return the sum of instances where the values do not match\n",
    "validation = bool_check.count(False)\n",
    "validation"
   ]
  },
  {
   "cell_type": "markdown",
   "metadata": {},
   "source": [
    "### Here as validation returns 0 value, it means all values are matching between the values calculated manually and by the inbuilt function."
   ]
  },
  {
   "cell_type": "markdown",
   "metadata": {},
   "source": [
    "# 5) Visualization of Normal Distribution"
   ]
  },
  {
   "cell_type": "code",
   "execution_count": 11,
   "metadata": {},
   "outputs": [],
   "source": [
    "import matplotlib.pyplot as plt\n",
    "from scipy.stats import norm"
   ]
  },
  {
   "cell_type": "code",
   "execution_count": 12,
   "metadata": {},
   "outputs": [
    {
     "data": {
      "text/plain": [
       "Text(0.5, 0, 'Normalised values')"
      ]
     },
     "execution_count": 12,
     "metadata": {},
     "output_type": "execute_result"
    },
    {
     "data": {
      "image/png": "[encoded data removed]",
      "text/plain": [
       "<Figure size 432x288 with 1 Axes>"
      ]
     },
     "metadata": {
      "needs_background": "light"
     },
     "output_type": "display_data"
    }
   ],
   "source": [
    "X = np.array(df['Physics Marks'])\n",
    "X.sort()\n",
    "Z = (X - mean)/std_dev\n",
    "plt.title('Normal Distribution of Physics Marks')\n",
    "plt.plot(Z, norm.pdf(X, mean, std_dev), color = 'blue', alpha = 0.7)\n",
    "plt.xlabel('Normalised values')"
   ]
  },
  {
   "cell_type": "markdown",
   "metadata": {},
   "source": [
    "### Here we can see that we have obtained a bell shaped curve."
   ]
  },
  {
   "cell_type": "markdown",
   "metadata": {},
   "source": [
    "# 6) Calculating Skewness"
   ]
  },
  {
   "cell_type": "code",
   "execution_count": 13,
   "metadata": {},
   "outputs": [
    {
     "data": {
      "text/plain": [
       "0.02096594723018351"
      ]
     },
     "execution_count": 13,
     "metadata": {},
     "output_type": "execute_result"
    }
   ],
   "source": [
    "numerator = sum(([(df['Physics Marks'][i] - mean)**3 for i in range(0,100)]))/100\n",
    "\n",
    "denominator = ((sum([(df['Physics Marks'][i] - mean)**2 for i in range(0,100)])/100)**1.5)\n",
    "\n",
    "Coeff_Skewness = numerator/denominator\n",
    "Coeff_Skewness"
   ]
  },
  {
   "cell_type": "code",
   "execution_count": 14,
   "metadata": {},
   "outputs": [],
   "source": [
    "from scipy.stats import skew"
   ]
  },
  {
   "cell_type": "code",
   "execution_count": 15,
   "metadata": {},
   "outputs": [
    {
     "name": "stdout",
     "output_type": "stream",
     "text": [
      "The value of Skewness without inbuilt libraries:  0.02096594723018351\n",
      "The value of Skewness using inbuilt libraries:    0.020965947230183538\n"
     ]
    }
   ],
   "source": [
    "Coeff_Skewness_inbuilt = skew(df['Physics Marks'])\n",
    "\n",
    "print(\"The value of Skewness without inbuilt libraries: \", Coeff_Skewness)\n",
    "print(\"The value of Skewness using inbuilt libraries:   \", Coeff_Skewness_inbuilt)"
   ]
  },
  {
   "cell_type": "markdown",
   "metadata": {},
   "source": [
    "### Here we can see that the values are equal."
   ]
  },
  {
   "cell_type": "code",
   "execution_count": 16,
   "metadata": {},
   "outputs": [
    {
     "data": {
      "text/plain": [
       "0.6812208342901084"
      ]
     },
     "execution_count": 16,
     "metadata": {},
     "output_type": "execute_result"
    }
   ],
   "source": [
    "median = df['Physics Marks'].median()\n",
    "Pearsons_coeff = (3*(mean - median))/std_dev\n",
    "Pearsons_coeff"
   ]
  },
  {
   "cell_type": "markdown",
   "metadata": {},
   "source": [
    "### Since Pearsons coefficient is 0.29934 which lies between -0.5 and 0.5, we can say that the data is nearly symmetrical about centre."
   ]
  },
  {
   "cell_type": "markdown",
   "metadata": {},
   "source": [
    "# 7) Calculating Kurtosis"
   ]
  },
  {
   "cell_type": "code",
   "execution_count": 17,
   "metadata": {},
   "outputs": [
    {
     "name": "stdout",
     "output_type": "stream",
     "text": [
      "Value of Kurtosis:          1.7580258408403011\n",
      "Value of Excess Kurtosis:  -1.2419741591596989\n"
     ]
    }
   ],
   "source": [
    "numerator = sum([(df['Physics Marks'][i] - mean)**4 for i in range(0,100)])/100\n",
    "denominator = sum([(df['Physics Marks'][i] - mean)**2 for i in range(0,100)])/100\n",
    "\n",
    "Kurtosis = numerator/(denominator**2)\n",
    "\n",
    "print(\"Value of Kurtosis:         \", Kurtosis)\n",
    "print(\"Value of Excess Kurtosis: \", Kurtosis - 3)"
   ]
  },
  {
   "cell_type": "code",
   "execution_count": 18,
   "metadata": {},
   "outputs": [
    {
     "name": "stdout",
     "output_type": "stream",
     "text": [
      "Value of Excess Kurtosis using inbuilt library:  -1.2419741591596987\n"
     ]
    }
   ],
   "source": [
    "from scipy.stats import kurtosis\n",
    "\n",
    "Kurtosis_using_inbuilt = kurtosis(df['Physics Marks'])\n",
    "\n",
    "print(\"Value of Excess Kurtosis using inbuilt library: \" ,Kurtosis_using_inbuilt)"
   ]
  },
  {
   "cell_type": "markdown",
   "metadata": {},
   "source": [
    "### Hence, we can see that the values of Kurtosis by calculation and by inbuilt libraries are equal."
   ]
  },
  {
   "cell_type": "markdown",
   "metadata": {},
   "source": [
    "# 8) Visualization of Data"
   ]
  },
  {
   "cell_type": "markdown",
   "metadata": {},
   "source": [
    "### The following histogram depicts the overall distribution of Total marks obtained by the students."
   ]
  },
  {
   "cell_type": "code",
   "execution_count": 19,
   "metadata": {},
   "outputs": [
    {
     "data": {
      "text/plain": [
       "Text(0.5, 1.0, 'Student Marks Histogram')"
      ]
     },
     "execution_count": 19,
     "metadata": {},
     "output_type": "execute_result"
    },
    {
     "data": {
      "image/png": "[encoded data removed]",
      "text/plain": [
       "<Figure size 432x288 with 1 Axes>"
      ]
     },
     "metadata": {
      "needs_background": "light"
     },
     "output_type": "display_data"
    }
   ],
   "source": [
    "plt.hist(df['Total Marks'],color = 'blue', alpha = 0.7, histtype = 'stepfilled')\n",
    "plt.xlabel(\"Total Marks\")\n",
    "plt.ylabel(\"Number of Students\")\n",
    "plt.title(\"Student Marks Histogram\")"
   ]
  },
  {
   "cell_type": "markdown",
   "metadata": {},
   "source": [
    "##### The following plot represents the toppers of the exam; The criteria for selection are: \n",
    "##### 1) Total Score must be greater than 250.\n",
    "##### 2) They must score above 70 in all subjects individually."
   ]
  },
  {
   "cell_type": "code",
   "execution_count": 20,
   "metadata": {},
   "outputs": [
    {
     "data": {
      "text/plain": [
       "Text(0.5, 1.0, 'Determining Toppers')"
      ]
     },
     "execution_count": 20,
     "metadata": {},
     "output_type": "execute_result"
    },
    {
     "data": {
      "image/png": "[encoded data removed]",
      "text/plain": [
       "<Figure size 432x288 with 1 Axes>"
      ]
     },
     "metadata": {
      "needs_background": "light"
     },
     "output_type": "display_data"
    }
   ],
   "source": [
    "# Displaying all students as dots and then highlighting ones which qualify as a topper\n",
    "\n",
    "colors = np.where(((df['Total Marks'] > 250) & (df['Maths Marks'] > 70) & (df['Physics Marks'] > 70) & (df['Chemistry Marks'] > 70)),'blue','orange')\n",
    "plt.scatter(df['Total Marks'], df['Physics Marks'], color = colors, alpha = 0.8)\n",
    "plt.xlabel(\"Total Marks\")\n",
    "plt.ylabel(\"Physics Marks\")\n",
    "plt.title(\"Determining Toppers\")"
   ]
  },
  {
   "cell_type": "markdown",
   "metadata": {},
   "source": [
    "#### Here we can see that there are 6 students, depicted in blue, which are the students who have performed well overall and in all subjects individually."
   ]
  },
  {
   "cell_type": "markdown",
   "metadata": {},
   "source": [
    "# 9) Conclusion"
   ]
  },
  {
   "cell_type": "code",
   "execution_count": 21,
   "metadata": {},
   "outputs": [
    {
     "data": {
      "text/html": [
       "<div>\n",
       "<style scoped>\n",
       "    .dataframe tbody tr th:only-of-type {\n",
       "        vertical-align: middle;\n",
       "    }\n",
       "\n",
       "    .dataframe tbody tr th {\n",
       "        vertical-align: top;\n",
       "    }\n",
       "\n",
       "    .dataframe thead th {\n",
       "        text-align: right;\n",
       "    }\n",
       "</style>\n",
       "<table border=\"1\" class=\"dataframe\">\n",
       "  <thead>\n",
       "    <tr style=\"text-align: right;\">\n",
       "      <th></th>\n",
       "      <th>Metric</th>\n",
       "      <th>Value</th>\n",
       "    </tr>\n",
       "  </thead>\n",
       "  <tbody>\n",
       "    <tr>\n",
       "      <td>0</td>\n",
       "      <td>Mean</td>\n",
       "      <td>66.170000</td>\n",
       "    </tr>\n",
       "    <tr>\n",
       "      <td>1</td>\n",
       "      <td>Standard Deviation</td>\n",
       "      <td>20.566018</td>\n",
       "    </tr>\n",
       "    <tr>\n",
       "      <td>2</td>\n",
       "      <td>Pearsons Coefficient</td>\n",
       "      <td>0.681221</td>\n",
       "    </tr>\n",
       "    <tr>\n",
       "      <td>3</td>\n",
       "      <td>Skewness</td>\n",
       "      <td>0.020966</td>\n",
       "    </tr>\n",
       "    <tr>\n",
       "      <td>4</td>\n",
       "      <td>Kurtosis</td>\n",
       "      <td>1.758026</td>\n",
       "    </tr>\n",
       "    <tr>\n",
       "      <td>5</td>\n",
       "      <td>Excess Kurtosis</td>\n",
       "      <td>-1.241974</td>\n",
       "    </tr>\n",
       "  </tbody>\n",
       "</table>\n",
       "</div>"
      ],
      "text/plain": [
       "                 Metric      Value\n",
       "0                  Mean  66.170000\n",
       "1    Standard Deviation  20.566018\n",
       "2  Pearsons Coefficient   0.681221\n",
       "3              Skewness   0.020966\n",
       "4              Kurtosis   1.758026\n",
       "5       Excess Kurtosis  -1.241974"
      ]
     },
     "execution_count": 21,
     "metadata": {},
     "output_type": "execute_result"
    }
   ],
   "source": [
    "data = {\n",
    "        'Metric': ['Mean', 'Standard Deviation', 'Pearsons Coefficient','Skewness', 'Kurtosis', 'Excess Kurtosis'],\n",
    "        'Value' : [mean, std_dev, Pearsons_coeff, Coeff_Skewness, Kurtosis, Kurtosis - 3]\n",
    "}\n",
    "ans = pd.DataFrame(data)\n",
    "ans"
   ]
  },
  {
   "cell_type": "raw",
   "metadata": {},
   "source": [
    "According to our calculations we have obtained the above data. From this we can conclude that:\n",
    "\n",
    "1) Pearson's Coefficient = 0.2993, implies that the distribution is symmetrical as it lies between -0.5 and 0.5\n",
    "\n",
    "2) Skewness = 0.0355, implies that the distribution is right skewed as it is positive.\n",
    "\n",
    "3) Excess Kurtosis = -1.1834, implies that the distribution is platykurtic. "
   ]
  },
  {
   "cell_type": "code",
   "execution_count": null,
   "metadata": {},
   "outputs": [],
   "source": []
  }
 ],
 "metadata": {
  "kernelspec": {
   "display_name": "Python 3",
   "language": "python",
   "name": "python3"
  },
  "language_info": {
   "codemirror_mode": {
    "name": "ipython",
    "version": 3
   },
   "file_extension": ".py",
   "mimetype": "text/x-python",
   "name": "python",
   "nbconvert_exporter": "python",
   "pygments_lexer": "ipython3",
   "version": "3.7.4"
  }
 },
 "nbformat": 4,
 "nbformat_minor": 5
}
